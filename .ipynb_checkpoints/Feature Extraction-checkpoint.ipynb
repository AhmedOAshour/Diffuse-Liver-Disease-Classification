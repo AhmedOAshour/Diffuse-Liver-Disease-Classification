{
 "cells": [
  {
   "cell_type": "code",
   "execution_count": 98,
   "id": "1947ef7c",
   "metadata": {},
   "outputs": [
    {
     "name": "stdout",
     "output_type": "stream",
     "text": [
      "[[  0   4   8  12  16  20  24  28]\n",
      " [ 32  36  40  44  48  52  56  60]\n",
      " [ 64  68  72  76  80  84  88  92]\n",
      " [ 96 100 104 108 112 116 120 124]\n",
      " [128 132 136 140 144 148 152 156]\n",
      " [160 164 168 172 176 180 184 188]\n",
      " [192 196 200 204 208 212 216 220]\n",
      " [224 228 232 236 240 244 248 252]]\n"
     ]
    }
   ],
   "source": [
    "import numpy as np\n",
    "from matplotlib import pyplot as plt\n",
    "import math\n",
    "\n",
    "img = np.arange(0,255,4).reshape((8, 8))\n",
    "print(img)"
   ]
  },
  {
   "cell_type": "code",
   "execution_count": 65,
   "id": "730d6bc3",
   "metadata": {},
   "outputs": [],
   "source": [
    "def correlation(img):\n",
    "    res = 0\n",
    "#     std_x = np.std(img[0])  # what is std/mean x and y\n",
    "#     std_y = np.std(img[:,0])\n",
    "#     mean_x = np.mean(img)\n",
    "#     mean_y = np.mean(img)\n",
    "    for i in range(img.shape[0]):\n",
    "        for j in range(img.shape[1]):\n",
    "            res += (i * j * img[i,j]) - (mean_x * mean_y)\n",
    "    return res / (std_x * std_y)"
   ]
  },
  {
   "cell_type": "code",
   "execution_count": 66,
   "id": "e46f8318",
   "metadata": {},
   "outputs": [],
   "source": [
    "def homogeneity(img):\n",
    "    res = 0\n",
    "    for i in range(img.shape[0]):\n",
    "        for j in range(img.shape[1]):\n",
    "            res += img[i,j] / (1 + abs(j - i))\n",
    "    print(res)"
   ]
  },
  {
   "cell_type": "code",
   "execution_count": 67,
   "id": "fb18f92c",
   "metadata": {},
   "outputs": [],
   "source": [
    "def entropy(img):\n",
    "    res = 0\n",
    "    for i in range(img.shape[0]):\n",
    "        for j in range(img.shape[1]):\n",
    "            res += img[i,j] * math.log(img[i,j]) # log base 10 or 2?\n",
    "            #  If pixel value is 0 log is infinite\n",
    "    return res * -1"
   ]
  },
  {
   "cell_type": "code",
   "execution_count": 75,
   "id": "1d7e21ca",
   "metadata": {},
   "outputs": [],
   "source": [
    "def variance(img):\n",
    "    res = 0\n",
    "    mean = np.mean(img)\n",
    "    res1 = 0\n",
    "    for i in range(img.shape[0]):\n",
    "        for j in range(img.shape[1]):\n",
    "            res += math.pow(i-mean,2) * img[i,j]\n",
    "            res1 += math.pow((img[i,j] - mean), 2)\n",
    "    print(\"Gaber: \",res) # what is i and p(i,j)\n",
    "    print(\"Other: \",res1/(img.size))\n",
    "    print(\"Numpy: \", np.var(img))"
   ]
  },
  {
   "cell_type": "code",
   "execution_count": 76,
   "id": "7594b4c6",
   "metadata": {},
   "outputs": [
    {
     "name": "stdout",
     "output_type": "stream",
     "text": [
      "Gaber:  118418496.0\n",
      "Other:  5460.0\n",
      "Numpy:  5460.0\n"
     ]
    }
   ],
   "source": [
    "variance(img)"
   ]
  },
  {
   "cell_type": "code",
   "execution_count": 107,
   "id": "84e14a96",
   "metadata": {},
   "outputs": [],
   "source": [
    "def contrast(img):\n",
    "    res = 0\n",
    "    res1 = 0\n",
    "    for i in range(img.shape[0]):\n",
    "        for j in range(img.shape[1]):\n",
    "            n = math.pow(i-j,2)\n",
    "            res += img[i,j] * n\n",
    "    return res"
   ]
  },
  {
   "cell_type": "code",
   "execution_count": 130,
   "id": "6a11d640",
   "metadata": {},
   "outputs": [],
   "source": [
    "def longRunEmphasis(img):\n",
    "    pass"
   ]
  },
  {
   "cell_type": "code",
   "execution_count": 129,
   "id": "3aa6f5d8",
   "metadata": {},
   "outputs": [],
   "source": [
    "def runePercentage(img):\n",
    "    pass"
   ]
  },
  {
   "cell_type": "code",
   "execution_count": 131,
   "id": "a7d4b1e6",
   "metadata": {},
   "outputs": [],
   "source": [
    "def standardDeviations(img):\n",
    "    pass"
   ]
  },
  {
   "cell_type": "code",
   "execution_count": null,
   "id": "84d328a3",
   "metadata": {},
   "outputs": [],
   "source": []
  }
 ],
 "metadata": {
  "kernelspec": {
   "display_name": "Python 3",
   "language": "python",
   "name": "python3"
  },
  "language_info": {
   "codemirror_mode": {
    "name": "ipython",
    "version": 3
   },
   "file_extension": ".py",
   "mimetype": "text/x-python",
   "name": "python",
   "nbconvert_exporter": "python",
   "pygments_lexer": "ipython3",
   "version": "3.8.8"
  }
 },
 "nbformat": 4,
 "nbformat_minor": 5
}

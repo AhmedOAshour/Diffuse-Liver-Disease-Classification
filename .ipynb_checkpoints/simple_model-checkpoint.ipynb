{
 "cells": [
  {
   "cell_type": "code",
   "execution_count": 1,
   "id": "4159faec",
   "metadata": {},
   "outputs": [],
   "source": [
    "import cv2 as cv\n",
    "import numpy as np\n",
    "import os\n",
    "from skimage.feature.texture import greycomatrix\n",
    "from skimage.feature.texture import greycoprops\n",
    "from skimage.measure import shannon_entropy\n",
    "import pyfeats"
   ]
  },
  {
   "cell_type": "code",
   "execution_count": 2,
   "id": "7b259531",
   "metadata": {},
   "outputs": [],
   "source": [
    "def read_images(folder = \"dataset/train\",\n",
    "                classes = [\n",
    "                            \"normal\",\n",
    "                            \"fatty\",\n",
    "#                             \"cirrhosis\"\n",
    "                        ]):\n",
    "    image_names = {}\n",
    "    images = {}\n",
    "    # Get all image names in folders\n",
    "    for cls in classes:\n",
    "        image_names[cls] = os.listdir(f'{folder}/{cls}')\n",
    "\n",
    "    # read all images to list\n",
    "    for cls in classes:\n",
    "        images[cls] = []\n",
    "        for name in image_names[cls]:\n",
    "            img = cv.imread(f'{folder}/{cls}/{name}', cv.IMREAD_GRAYSCALE)\n",
    "            images[cls].append(img)\n",
    "    return images"
   ]
  },
  {
   "cell_type": "code",
   "execution_count": 3,
   "id": "942229a2",
   "metadata": {},
   "outputs": [],
   "source": [
    "def extract_roi(img, start =(160,300) , size = (9,9)):\n",
    "    roi = img[start[0]:start[0]+size[0],start[1]:start[1]+size[1]]\n",
    "    mask = np.zeros(img.shape)\n",
    "    mask[40:49,40:49] = 1\n",
    "    return roi, mask"
   ]
  },
  {
   "cell_type": "code",
   "execution_count": 6,
   "id": "d61c1db3",
   "metadata": {},
   "outputs": [],
   "source": [
    "def feature_extraction(img):\n",
    "    roi, mask = extract_roi(img)\n",
    "    \n",
    "    features = {}\n",
    "    # 0 45 90 135 degrees\n",
    "    # angles = [0, np.pi / 4, np.pi / 2, 3 * np.pi / 4]\n",
    "    glcm_mtx = greycomatrix(roi, distances = [1], angles = [0], levels = 256)\n",
    "    columns = \n",
    "\n",
    "    features['contrast'] = greycoprops(glcm_mtx, 'contrast')[0,0]\n",
    "    features['homogeneity'] = greycoprops(glcm_mtx, 'homogeneity')[0,0]\n",
    "    features['energy'] = greycoprops(glcm_mtx, 'energy')[0,0]\n",
    "    features['correlation'] = greycoprops(glcm_mtx, 'correlation')[0,0]\n",
    "\n",
    "\n",
    "    features['entropy'] = shannon_entropy(roi)\n",
    "\n",
    "\n",
    "\n",
    "    feat, labels = pyfeats.glrlm_features(img, mask, 256)\n",
    "    glrlm = {l : f for l,f in zip(labels,feat)}\n",
    "    features['longRunEmphasis'] = glrlm['GLRLM_LongRunEmphasis']\n",
    "    features['runPercentage'] = glrlm['GLRLM_RunPercentage']\n",
    "    return features"
   ]
  },
  {
   "cell_type": "code",
   "execution_count": 7,
   "id": "f1aec5f5",
   "metadata": {},
   "outputs": [
    {
     "data": {
      "text/plain": [
       "{'contrast': 4.0,\n",
       " 'homogeneity': 0.44351432880844643,\n",
       " 'energy': 0.15590239111558088,\n",
       " 'correlation': 0.8917963295534402,\n",
       " 'entropy': 3.9407808223346885,\n",
       " 'longRunEmphasis': 2.356688326973246,\n",
       " 'runPercentage': 0.8379758628597638}"
      ]
     },
     "execution_count": 7,
     "metadata": {},
     "output_type": "execute_result"
    }
   ],
   "source": [
    "import pandas as pd\n",
    "img = cv.imread('dataset/train/normal/n1.jpg', cv.IMREAD_GRAYSCALE)\n",
    "feature_extraction(img)"
   ]
  },
  {
   "cell_type": "code",
   "execution_count": 20,
   "id": "78655b66",
   "metadata": {},
   "outputs": [],
   "source": [
    "def build_dataframe(images, columns=\"\"):\n",
    "    # dataframe consists of features of 1 ROI per image\n",
    "    # column name roiNum_feature\n",
    "    data = pd.DataFrame(columns = [\n",
    "        'target',\n",
    "        'correlation',\n",
    "        'homogeneity',\n",
    "        'entropy',\n",
    "        'variance',\n",
    "        'contrast',\n",
    "        'longRunEmphasis',\n",
    "        'runePercentage'\n",
    "    ])\n",
    "    for cls in images:\n",
    "        for img in images[cls]:\n",
    "            row = feature_extraction(img)\n",
    "            row['target'] = cls\n",
    "            print(row)\n",
    "            data.append(row,ignore_index=True)\n",
    "            break\n",
    "        break\n",
    "    return data"
   ]
  },
  {
   "cell_type": "code",
   "execution_count": 21,
   "id": "aa6c417a",
   "metadata": {},
   "outputs": [
    {
     "name": "stdout",
     "output_type": "stream",
     "text": [
      "{'contrast': 4.0, 'homogeneity': 0.44351432880844643, 'energy': 0.15590239111558088, 'correlation': 0.8917963295534402, 'entropy': 3.9407808223346885, 'longRunEmphasis': 2.356688326973246, 'runPercentage': 0.8379758628597638, 'target': 'normal'}\n",
      "Wall time: 1.73 s\n"
     ]
    },
    {
     "data": {
      "text/html": [
       "<div>\n",
       "<style scoped>\n",
       "    .dataframe tbody tr th:only-of-type {\n",
       "        vertical-align: middle;\n",
       "    }\n",
       "\n",
       "    .dataframe tbody tr th {\n",
       "        vertical-align: top;\n",
       "    }\n",
       "\n",
       "    .dataframe thead th {\n",
       "        text-align: right;\n",
       "    }\n",
       "</style>\n",
       "<table border=\"1\" class=\"dataframe\">\n",
       "  <thead>\n",
       "    <tr style=\"text-align: right;\">\n",
       "      <th></th>\n",
       "      <th>target</th>\n",
       "      <th>correlation</th>\n",
       "      <th>homogeneity</th>\n",
       "      <th>entropy</th>\n",
       "      <th>variance</th>\n",
       "      <th>contrast</th>\n",
       "      <th>longRunEmphasis</th>\n",
       "      <th>runePercentage</th>\n",
       "    </tr>\n",
       "  </thead>\n",
       "  <tbody>\n",
       "  </tbody>\n",
       "</table>\n",
       "</div>"
      ],
      "text/plain": [
       "Empty DataFrame\n",
       "Columns: [target, correlation, homogeneity, entropy, variance, contrast, longRunEmphasis, runePercentage]\n",
       "Index: []"
      ]
     },
     "execution_count": 21,
     "metadata": {},
     "output_type": "execute_result"
    }
   ],
   "source": [
    "%%time\n",
    "images = read_images()\n",
    "build_dataframe(images)"
   ]
  },
  {
   "cell_type": "code",
   "execution_count": null,
   "id": "bf5cdb34",
   "metadata": {},
   "outputs": [],
   "source": []
  }
 ],
 "metadata": {
  "kernelspec": {
   "display_name": "Python 3",
   "language": "python",
   "name": "python3"
  },
  "language_info": {
   "codemirror_mode": {
    "name": "ipython",
    "version": 3
   },
   "file_extension": ".py",
   "mimetype": "text/x-python",
   "name": "python",
   "nbconvert_exporter": "python",
   "pygments_lexer": "ipython3",
   "version": "3.8.8"
  }
 },
 "nbformat": 4,
 "nbformat_minor": 5
}

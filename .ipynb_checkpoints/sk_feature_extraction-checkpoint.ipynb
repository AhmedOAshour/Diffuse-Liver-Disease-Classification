{
 "cells": [
  {
   "cell_type": "code",
   "execution_count": 176,
   "id": "25e58003",
   "metadata": {
    "scrolled": true
   },
   "outputs": [
    {
     "name": "stdout",
     "output_type": "stream",
     "text": [
      "[[  0   4   8  12  16  20  24  28]\n",
      " [ 32  36  40  44  48  52  56  60]\n",
      " [ 64  68  72  76  80  84  88  92]\n",
      " [ 96 100 104 108 112 116 120 124]\n",
      " [128 132 136 140 144 148 152 156]\n",
      " [160 164 168 172 176 180 184 188]\n",
      " [192 196 200 204 208 212 216 220]\n",
      " [224 228 232 236 240 244 248 252]]\n"
     ]
    }
   ],
   "source": [
    "import numpy as np\n",
    "from matplotlib import pyplot as plt\n",
    "import math\n",
    "\n",
    "roi = np.arange(0,255,4, dtype='uint8').reshape((8, 8))\n",
    "print(img)"
   ]
  },
  {
   "cell_type": "markdown",
   "id": "78831d58",
   "metadata": {},
   "source": [
    "# ROI Extraction"
   ]
  },
  {
   "cell_type": "code",
   "execution_count": 177,
   "id": "bcb18c49",
   "metadata": {},
   "outputs": [
    {
     "data": {
      "text/plain": [
       "array([[ 74, 189,   5, 113,  76,  60, 134, 219,  12],\n",
       "       [231,  45, 160, 189,  12, 180, 119,  39, 179],\n",
       "       [151, 251, 219,  75,  84, 243, 224,  23,  12],\n",
       "       [130,  44,  94, 246, 212, 151, 111, 142,  49],\n",
       "       [ 76,  22, 147,  16, 253, 107,  99,  58, 204],\n",
       "       [172, 184,  96, 185,  26, 193, 192,  20, 216],\n",
       "       [111,   5,  80,  40,  63,  20, 161, 127, 226],\n",
       "       [ 80,  52, 225,  42, 118, 203, 194, 235, 211],\n",
       "       [ 10,  74,  82,  22,  76, 167, 115, 107, 160]], dtype=uint8)"
      ]
     },
     "execution_count": 177,
     "metadata": {},
     "output_type": "execute_result"
    }
   ],
   "source": [
    "rand_img = rand_roi = np.random.randint(0, 255, size = (150,150), dtype='uint8')\n",
    "\n",
    "rand_roi = rand_img[40:49,40:49]\n",
    "rand_roi"
   ]
  },
  {
   "cell_type": "code",
   "execution_count": 194,
   "id": "759ce9cf",
   "metadata": {},
   "outputs": [
    {
     "data": {
      "text/plain": [
       "array([[1., 1., 1., 1., 1., 1., 1., 1., 1.],\n",
       "       [1., 1., 1., 1., 1., 1., 1., 1., 1.],\n",
       "       [1., 1., 1., 1., 1., 1., 1., 1., 1.],\n",
       "       [1., 1., 1., 1., 1., 1., 1., 1., 1.],\n",
       "       [1., 1., 1., 1., 1., 1., 1., 1., 1.],\n",
       "       [1., 1., 1., 1., 1., 1., 1., 1., 1.],\n",
       "       [1., 1., 1., 1., 1., 1., 1., 1., 1.],\n",
       "       [1., 1., 1., 1., 1., 1., 1., 1., 1.],\n",
       "       [1., 1., 1., 1., 1., 1., 1., 1., 1.]])"
      ]
     },
     "execution_count": 194,
     "metadata": {},
     "output_type": "execute_result"
    }
   ],
   "source": [
    "# mask for pyradiomic\n",
    "roi_mask = np.zeros((150,150))\n",
    "roi_mask[40:49,40:49] = 1\n",
    "roi_mask[40:49,40:49]"
   ]
  },
  {
   "cell_type": "markdown",
   "id": "84b60b55",
   "metadata": {},
   "source": [
    "# Regular image GLCM features\n",
    "### Output is array of features for each angle"
   ]
  },
  {
   "cell_type": "code",
   "execution_count": 178,
   "id": "97d56322",
   "metadata": {},
   "outputs": [],
   "source": [
    "# GLCM\n",
    "from skimage.feature.texture import greycomatrix\n",
    "from skimage.feature.texture import greycoprops\n",
    "# 0 45 90 135 degrees\n",
    "angles = [0, np.pi / 4, np.pi / 2, 3 * np.pi / 4]\n",
    "glcm_mtx = greycomatrix(roi, distances = [1], angles = angles, levels = 256)"
   ]
  },
  {
   "cell_type": "code",
   "execution_count": 179,
   "id": "a6dd0047",
   "metadata": {},
   "outputs": [
    {
     "data": {
      "text/plain": [
       "array([[  16., 1296., 1024.,  784.]])"
      ]
     },
     "execution_count": 179,
     "metadata": {},
     "output_type": "execute_result"
    }
   ],
   "source": [
    "greycoprops(glcm_mtx, 'contrast')"
   ]
  },
  {
   "cell_type": "code",
   "execution_count": 180,
   "id": "1c243903",
   "metadata": {},
   "outputs": [
    {
     "data": {
      "text/plain": [
       "array([[0.05882353, 0.00077101, 0.00097561, 0.00127389]])"
      ]
     },
     "execution_count": 180,
     "metadata": {},
     "output_type": "execute_result"
    }
   ],
   "source": [
    "greycoprops(glcm_mtx, 'homogeneity')"
   ]
  },
  {
   "cell_type": "code",
   "execution_count": 181,
   "id": "6f3f5e3f",
   "metadata": {},
   "outputs": [
    {
     "data": {
      "text/plain": [
       "array([[0.13363062, 0.14285714, 0.13363062, 0.14285714]])"
      ]
     },
     "execution_count": 181,
     "metadata": {},
     "output_type": "execute_result"
    }
   ],
   "source": [
    "greycoprops(glcm_mtx, 'energy')"
   ]
  },
  {
   "cell_type": "code",
   "execution_count": 182,
   "id": "e2c693b9",
   "metadata": {},
   "outputs": [
    {
     "data": {
      "text/plain": [
       "array([[1., 1., 1., 1.]])"
      ]
     },
     "execution_count": 182,
     "metadata": {},
     "output_type": "execute_result"
    }
   ],
   "source": [
    "greycoprops(glcm_mtx, 'correlation')"
   ]
  },
  {
   "cell_type": "markdown",
   "id": "bde36c23",
   "metadata": {},
   "source": [
    "# Random image GLCM features"
   ]
  },
  {
   "cell_type": "code",
   "execution_count": 183,
   "id": "ff131cf2",
   "metadata": {},
   "outputs": [
    {
     "data": {
      "text/plain": [
       "array([[11526.77777778, 10502.234375  , 12054.59722222, 10098.390625  ]])"
      ]
     },
     "execution_count": 183,
     "metadata": {},
     "output_type": "execute_result"
    }
   ],
   "source": [
    "glcm_rand = greycomatrix(rand_roi, distances = [1], angles = angles, levels = 256)\n",
    "\n",
    "greycoprops(glcm_rand, 'contrast')"
   ]
  },
  {
   "cell_type": "code",
   "execution_count": 184,
   "id": "33c307e6",
   "metadata": {
    "scrolled": true
   },
   "outputs": [
    {
     "data": {
      "text/plain": [
       "array([[0.00849521, 0.0016402 , 0.00365362, 0.00172177]])"
      ]
     },
     "execution_count": 184,
     "metadata": {},
     "output_type": "execute_result"
    }
   ],
   "source": [
    "greycoprops(glcm_rand, 'homogeneity')"
   ]
  },
  {
   "cell_type": "code",
   "execution_count": 185,
   "id": "7315aaf6",
   "metadata": {},
   "outputs": [
    {
     "data": {
      "text/plain": [
       "array([[0.11785113, 0.125     , 0.11785113, 0.125     ]])"
      ]
     },
     "execution_count": 185,
     "metadata": {},
     "output_type": "execute_result"
    }
   ],
   "source": [
    "greycoprops(glcm_rand, 'energy')"
   ]
  },
  {
   "cell_type": "code",
   "execution_count": 186,
   "id": "0abc6479",
   "metadata": {},
   "outputs": [
    {
     "data": {
      "text/plain": [
       "array([[-0.03834403,  0.070187  , -0.05664918,  0.13255803]])"
      ]
     },
     "execution_count": 186,
     "metadata": {},
     "output_type": "execute_result"
    }
   ],
   "source": [
    "greycoprops(glcm_rand, 'correlation')"
   ]
  },
  {
   "cell_type": "markdown",
   "id": "5500d2a9",
   "metadata": {},
   "source": [
    "# Shannon Entropy"
   ]
  },
  {
   "cell_type": "code",
   "execution_count": 187,
   "id": "2fdd480e",
   "metadata": {},
   "outputs": [
    {
     "data": {
      "text/plain": [
       "6.0"
      ]
     },
     "execution_count": 187,
     "metadata": {},
     "output_type": "execute_result"
    }
   ],
   "source": [
    "from skimage.measure import shannon_entropy\n",
    "shannon_entropy(roi)"
   ]
  },
  {
   "cell_type": "code",
   "execution_count": 188,
   "id": "29cec323",
   "metadata": {},
   "outputs": [
    {
     "data": {
      "text/plain": [
       "5.950840434929971"
      ]
     },
     "execution_count": 188,
     "metadata": {},
     "output_type": "execute_result"
    }
   ],
   "source": [
    "shannon_entropy(rand_roi)"
   ]
  },
  {
   "cell_type": "markdown",
   "id": "20dddd40",
   "metadata": {},
   "source": [
    "# Variance"
   ]
  },
  {
   "cell_type": "code",
   "execution_count": 189,
   "id": "5be54ac6",
   "metadata": {},
   "outputs": [
    {
     "data": {
      "text/plain": [
       "5460.0"
      ]
     },
     "execution_count": 189,
     "metadata": {},
     "output_type": "execute_result"
    }
   ],
   "source": [
    "np.var(roi)"
   ]
  },
  {
   "cell_type": "markdown",
   "id": "0f34b9b6",
   "metadata": {},
   "source": [
    "# GLRLM Features"
   ]
  },
  {
   "cell_type": "code",
   "execution_count": 229,
   "id": "64982864",
   "metadata": {},
   "outputs": [
    {
     "name": "stdout",
     "output_type": "stream",
     "text": [
      "['GLRLM_ShortRunEmphasis', 'GLRLM_LongRunEmphasis', 'GLRLM_GrayLevelNo-Uniformity', 'GLRLM_RunLengthNonUniformity', 'GLRLM_RunPercentage', 'GLRLM_LowGrayLevelRunEmphasis', 'GLRLM_HighGrayLevelRunEmphasis', 'GLRLM_Short owGrayLevelEmphasis', 'GLRLM_ShortRunHighGrayLevelEmphasis', 'GLRLM_LongRunLowGrayLevelEmphasis', 'GLRLM_LongRunHighGrayLevelEmphasis']\n"
     ]
    }
   ],
   "source": [
    "import pyfeats\n",
    "\n",
    "features, labels = pyfeats.glrlm_features(rand_img, roi_mask, 256)\n",
    "print(labels)"
   ]
  },
  {
   "cell_type": "code",
   "execution_count": 234,
   "id": "8e6c806d",
   "metadata": {},
   "outputs": [],
   "source": [
    "glrlm = {l : f for l,f in zip(labels,features)}"
   ]
  },
  {
   "cell_type": "code",
   "execution_count": 235,
   "id": "d136ba8e",
   "metadata": {},
   "outputs": [
    {
     "name": "stdout",
     "output_type": "stream",
     "text": [
      "LRE 1.0114189272444907\n",
      "RP 0.583843137254902\n"
     ]
    }
   ],
   "source": [
    "print('LRE', glrlm['GLRLM_LongRunEmphasis'])\n",
    "\n",
    "print('RP', glrlm['GLRLM_RunPercentage'])"
   ]
  }
 ],
 "metadata": {
  "kernelspec": {
   "display_name": "Python 3",
   "language": "python",
   "name": "python3"
  },
  "language_info": {
   "codemirror_mode": {
    "name": "ipython",
    "version": 3
   },
   "file_extension": ".py",
   "mimetype": "text/x-python",
   "name": "python",
   "nbconvert_exporter": "python",
   "pygments_lexer": "ipython3",
   "version": "3.8.8"
  }
 },
 "nbformat": 4,
 "nbformat_minor": 5
}

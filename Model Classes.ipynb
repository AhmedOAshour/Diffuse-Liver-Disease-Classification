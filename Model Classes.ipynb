{
 "cells": [
  {
   "cell_type": "code",
   "execution_count": 32,
   "id": "97b9cb1e",
   "metadata": {},
   "outputs": [],
   "source": [
    "import cv2 as cv\n",
    "import numpy as np\n",
    "import pyfeats\n",
    "from skimage.feature.texture import greycomatrix\n",
    "from skimage.feature.texture import greycoprops\n",
    "from skimage.measure import shannon_entropy\n",
    "from sklearn.ensemble import RandomForestClassifier\n",
    "import pickle"
   ]
  },
  {
   "cell_type": "code",
   "execution_count": 24,
   "id": "8684e64c",
   "metadata": {},
   "outputs": [],
   "source": [
    "class PreProcessing:\n",
    "    def __init__(self, image_name):\n",
    "        self.image = self.load_image(image_name)\n",
    "\n",
    "    def load_image(self, image_name):\n",
    "        image = cv.imread(f'dataset/demo/{image_name}', cv.IMREAD_GRAYSCALE)\n",
    "        return image\n",
    "\n",
    "    def extract_roi(self, image, start, size=(32, 32)):\n",
    "        roi = image[start[0]:start[0] + size[0], start[1]:start[1] + size[1]]\n",
    "        mask = np.zeros(image.shape)\n",
    "        mask[start[0]:start[0] + size[0], start[1]:start[1] + size[1]] = 1\n",
    "        return roi, mask\n",
    "\n",
    "    def feature_extraction(self, image, roi_pos=[(160, 230),(118, 224),(241, 151),(120, 420),(170, 300),(400, 200),(300, 120),(240, 240),(360, 160)]):\n",
    "\n",
    "        roi_mask_arr = []\n",
    "        for pos in roi_pos:\n",
    "            roi_mask_arr.append(self.extract_roi(image, pos))\n",
    "\n",
    "        # 0 45 90 135 degrees\n",
    "        angles = [0, np.pi / 4, np.pi / 2, 3 * np.pi / 4]\n",
    "\n",
    "        da_dict = {\n",
    "            0: \"d1_0\",\n",
    "            1: \"d1_45\",\n",
    "            2: \"d1_90\",\n",
    "            3: \"d1_135\",\n",
    "\n",
    "            4: \"d2_0\",\n",
    "            5: \"d2_45\",\n",
    "            6: \"d2_90\",\n",
    "            7: \"d2_135\",\n",
    "\n",
    "            8: \"d3_0\",\n",
    "            9: \"d3_45\",\n",
    "            10: \"d3_90\",\n",
    "            11: \"d3_135\",\n",
    "        }\n",
    "\n",
    "        feat_arr = []\n",
    "        for roi, mask in roi_mask_arr:\n",
    "            if 0 in roi or roi.shape != (32, 32) or 0 in image.shape:\n",
    "                continue\n",
    "            features = {}\n",
    "\n",
    "            glcm_mtx = greycomatrix(roi, distances=[1, 2, 3], angles=angles, levels=256)\n",
    "            con = greycoprops(glcm_mtx, 'contrast').flatten()\n",
    "            hom = greycoprops(glcm_mtx, 'homogeneity').flatten()\n",
    "            en = greycoprops(glcm_mtx, 'energy').flatten()\n",
    "            corr = greycoprops(glcm_mtx, 'correlation').flatten()\n",
    "\n",
    "            for j in range(len(da_dict)):\n",
    "                features[f'contrast_{da_dict[j]}'] = con[j]\n",
    "                features[f'homogeneity_{da_dict[j]}'] = hom[j]\n",
    "                features[f'energy_{da_dict[j]}'] = en[j]\n",
    "                features[f'correlation_{da_dict[j]}'] = corr[j]\n",
    "\n",
    "            features[f'entropy'] = shannon_entropy(roi)\n",
    "\n",
    "            feat, labels = pyfeats.glrlm_features(image, mask, 256)\n",
    "            for i in range(len(labels)):\n",
    "                features[labels[i]] = feat[i]\n",
    "            #         glrlm = {l : f for l,f in zip(labels,feat)}\n",
    "            #         features[f'longRunEmphasis'] = glrlm['GLRLM_LongRunEmphasis']\n",
    "            #         features[f'runPercentage'] = glrlm['GLRLM_RunPercentage']\n",
    "\n",
    "            feat_arr.append(features)\n",
    "\n",
    "        return feat_arr\n",
    "\n",
    "    def build_dataframe(self):\n",
    "        # dataframe consists of features of 1 ROI per image\n",
    "        return pd.DataFrame(self.feature_extraction(self.image))"
   ]
  },
  {
   "cell_type": "code",
   "execution_count": 36,
   "id": "34aa2001",
   "metadata": {},
   "outputs": [],
   "source": [
    "class Model:\n",
    "    def __init__(self, image_name):\n",
    "        self.__model = pickle.load(open(\"dataset/train_RF_model\", 'rb'))\n",
    "        self.__preprocessing = PreProcessing(image_name)\n",
    "        self.__input = self.__preprocessing.build_dataframe()\n",
    "        \n",
    "    def predict(self):\n",
    "        return self.__model.predict(self.__input)\n",
    "\n",
    "    def report(self):\n",
    "        prediction = self.predict()\n",
    "        print(f\"Classification is {prediction}\")"
   ]
  },
  {
   "cell_type": "code",
   "execution_count": 45,
   "id": "d2c0e3a5",
   "metadata": {},
   "outputs": [],
   "source": [
    "model = Model('train.png')"
   ]
  },
  {
   "cell_type": "code",
   "execution_count": 46,
   "id": "fe29e557",
   "metadata": {},
   "outputs": [
    {
     "data": {
      "text/plain": [
       "array(['normal', 'normal', 'normal', 'fatty', 'normal', 'normal'],\n",
       "      dtype=object)"
      ]
     },
     "execution_count": 46,
     "metadata": {},
     "output_type": "execute_result"
    }
   ],
   "source": [
    "model.predict()"
   ]
  },
  {
   "cell_type": "code",
   "execution_count": null,
   "id": "93fd75c6",
   "metadata": {},
   "outputs": [],
   "source": [
    "# y_pred = rf.predict(X_test)\n",
    "# accuracy_score(y_test, y_pred)"
   ]
  }
 ],
 "metadata": {
  "kernelspec": {
   "display_name": "Python 3",
   "language": "python",
   "name": "python3"
  },
  "language_info": {
   "codemirror_mode": {
    "name": "ipython",
    "version": 3
   },
   "file_extension": ".py",
   "mimetype": "text/x-python",
   "name": "python",
   "nbconvert_exporter": "python",
   "pygments_lexer": "ipython3",
   "version": "3.8.8"
  }
 },
 "nbformat": 4,
 "nbformat_minor": 5
}

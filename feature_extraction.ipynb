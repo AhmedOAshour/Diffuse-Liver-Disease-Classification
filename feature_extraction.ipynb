{
 "cells": [
  {
   "cell_type": "code",
   "execution_count": 20,
   "id": "1947ef7c",
   "metadata": {
    "scrolled": true
   },
   "outputs": [
    {
     "name": "stdout",
     "output_type": "stream",
     "text": [
      "[[  0   4   8  12  16  20  24  28]\n",
      " [ 32  36  40  44  48  52  56  60]\n",
      " [ 64  68  72  76  80  84  88  92]\n",
      " [ 96 100 104 108 112 116 120 124]\n",
      " [128 132 136 140 144 148 152 156]\n",
      " [160 164 168 172 176 180 184 188]\n",
      " [192 196 200 204 208 212 216 220]\n",
      " [224 228 232 236 240 244 248 252]]\n"
     ]
    }
   ],
   "source": [
    "import numpy as np\n",
    "from matplotlib import pyplot as plt\n",
    "import math\n",
    "\n",
    "img = np.arange(0,255,4).reshape((8, 8))\n",
    "print(img)"
   ]
  },
  {
   "cell_type": "code",
   "execution_count": 21,
   "id": "34cf40c3",
   "metadata": {
    "scrolled": true
   },
   "outputs": [
    {
     "name": "stdout",
     "output_type": "stream",
     "text": [
      "[[166 148 239 144 241 207 235 203  32]\n",
      " [  3 130  64  69 134 215 199 152 125]\n",
      " [172 110  77  35   9 161  20  37 159]\n",
      " [235  95  59 233 227 211  60  87  20]\n",
      " [ 11 102 107 119  25  54 212 221 178]\n",
      " [174 166 158 187 129 112 192 207 120]\n",
      " [ 96  42 177  16 184  97 184 241 242]\n",
      " [225  91  51 188 146 172 138 174 151]\n",
      " [ 33  45  60 189 239  89  42 170  59]]\n"
     ]
    }
   ],
   "source": [
    "rand_img = np.random.randint(0, 255, size = (9,9))\n",
    "print(rand_img)"
   ]
  },
  {
   "cell_type": "code",
   "execution_count": 22,
   "id": "670c0a50",
   "metadata": {
    "scrolled": true
   },
   "outputs": [],
   "source": [
    "# correlation_mtx(rand_img)"
   ]
  },
  {
   "cell_type": "code",
   "execution_count": 23,
   "id": "4f7ba956",
   "metadata": {},
   "outputs": [],
   "source": [
    "# covariance matrix irrelevant for now\n",
    "# np.cov(img, rowvar = False, bias = True)"
   ]
  },
  {
   "cell_type": "code",
   "execution_count": 24,
   "id": "3fc94a89",
   "metadata": {},
   "outputs": [],
   "source": [
    "def correlation_mtx(img):\n",
    "    return np.corrcoef(img, rowvar = False)"
   ]
  },
  {
   "cell_type": "code",
   "execution_count": 25,
   "id": "d6bf78df",
   "metadata": {},
   "outputs": [],
   "source": [
    "def correlation_val(img):\n",
    "    # from paper\n",
    "    res = 0\n",
    "    mean_y = np.mean(img,axis=0) # row mean\n",
    "    mean_x = np.mean(img,axis=1) # col mean\n",
    "    var_y = np.var(img,axis=0)\n",
    "    var_x = np.var(img,axis=1)\n",
    "    for i in range(img.shape[0]):\n",
    "        for j in range(img.shape[1]):\n",
    "            res += (img[i,j] * (mean_x[i]*mean_y[j]) / (var_x[i]*var_y[j]))\n",
    "    return res"
   ]
  },
  {
   "cell_type": "code",
   "execution_count": 26,
   "id": "e46f8318",
   "metadata": {},
   "outputs": [],
   "source": [
    "def homogeneity(img):\n",
    "    res = 0\n",
    "    for i in range(img.shape[0]):\n",
    "        for j in range(img.shape[1]):\n",
    "            res += img[i,j] / (1 + abs(j - i))\n",
    "    return res"
   ]
  },
  {
   "cell_type": "code",
   "execution_count": 47,
   "id": "fb18f92c",
   "metadata": {},
   "outputs": [],
   "source": [
    "def entropy(img):\n",
    "    res = 0\n",
    "    for i in range(img.shape[0]):\n",
    "        for j in range(img.shape[1]):\n",
    "            res += (img[i,j]+0.01) * math.log2(img[i,j]+0.01) # If pixel value is 0 log is infinite\n",
    "            #  add\n",
    "    return res * -1"
   ]
  },
  {
   "cell_type": "code",
   "execution_count": 40,
   "id": "60225952",
   "metadata": {},
   "outputs": [],
   "source": [
    "from skimage.measure import shannon_entropy\n",
    "entropy = shannon_entropy(img)"
   ]
  },
  {
   "cell_type": "code",
   "execution_count": 42,
   "id": "c6fbdedc",
   "metadata": {},
   "outputs": [
    {
     "name": "stdout",
     "output_type": "stream",
     "text": [
      "6.0\n"
     ]
    }
   ],
   "source": [
    "print(entropy)"
   ]
  },
  {
   "cell_type": "code",
   "execution_count": 28,
   "id": "1d7e21ca",
   "metadata": {},
   "outputs": [],
   "source": [
    "def variance(img):\n",
    "    return np.var(img)"
   ]
  },
  {
   "cell_type": "code",
   "execution_count": 29,
   "id": "84e14a96",
   "metadata": {},
   "outputs": [],
   "source": [
    "def contrast(img):\n",
    "    res = 0\n",
    "    for i in range(img.shape[0]):\n",
    "        for j in range(img.shape[1]):\n",
    "            n = math.pow(i-j,2)\n",
    "            res += img[j,i] * n\n",
    "    return res"
   ]
  },
  {
   "cell_type": "code",
   "execution_count": 30,
   "id": "6a11d640",
   "metadata": {},
   "outputs": [],
   "source": [
    "# Pyradiomics glrlm\n",
    "def longRunEmphasis(img):\n",
    "    return 1"
   ]
  },
  {
   "cell_type": "code",
   "execution_count": 31,
   "id": "3aa6f5d8",
   "metadata": {},
   "outputs": [],
   "source": [
    "def runePercentage(img):\n",
    "    return 1"
   ]
  },
  {
   "cell_type": "code",
   "execution_count": 32,
   "id": "a7d4b1e6",
   "metadata": {},
   "outputs": [],
   "source": [
    "def var_mtx(img):\n",
    "    return np.var(img,axis=0), np.var(img,axis=1)"
   ]
  },
  {
   "cell_type": "code",
   "execution_count": 36,
   "id": "84d328a3",
   "metadata": {},
   "outputs": [
    {
     "data": {
      "text/html": [
       "<div>\n",
       "<style scoped>\n",
       "    .dataframe tbody tr th:only-of-type {\n",
       "        vertical-align: middle;\n",
       "    }\n",
       "\n",
       "    .dataframe tbody tr th {\n",
       "        vertical-align: top;\n",
       "    }\n",
       "\n",
       "    .dataframe thead th {\n",
       "        text-align: right;\n",
       "    }\n",
       "</style>\n",
       "<table border=\"1\" class=\"dataframe\">\n",
       "  <thead>\n",
       "    <tr style=\"text-align: right;\">\n",
       "      <th></th>\n",
       "      <th>target</th>\n",
       "      <th>correlation</th>\n",
       "      <th>homogeneity</th>\n",
       "      <th>entropy</th>\n",
       "      <th>variance</th>\n",
       "      <th>contrast</th>\n",
       "      <th>longRunEmphasis</th>\n",
       "      <th>runePercentage</th>\n",
       "    </tr>\n",
       "  </thead>\n",
       "  <tbody>\n",
       "    <tr>\n",
       "      <th>0</th>\n",
       "      <td>normal</td>\n",
       "      <td>381.0</td>\n",
       "      <td>3140.1</td>\n",
       "      <td>-58611.159118</td>\n",
       "      <td>5460.0</td>\n",
       "      <td>84672.0</td>\n",
       "      <td>1</td>\n",
       "      <td>1</td>\n",
       "    </tr>\n",
       "  </tbody>\n",
       "</table>\n",
       "</div>"
      ],
      "text/plain": [
       "   target  correlation  homogeneity       entropy  variance  contrast  \\\n",
       "0  normal        381.0       3140.1 -58611.159118    5460.0   84672.0   \n",
       "\n",
       "  longRunEmphasis runePercentage  \n",
       "0               1              1  "
      ]
     },
     "execution_count": 36,
     "metadata": {},
     "output_type": "execute_result"
    }
   ],
   "source": [
    "import pandas as pd\n",
    "\n",
    "data = pd.DataFrame(columns=[\n",
    "    'target',\n",
    "    'correlation',\n",
    "    'homogeneity',\n",
    "    'entropy',\n",
    "    'variance',\n",
    "    'contrast',\n",
    "    'longRunEmphasis',\n",
    "    'runePercentage'\n",
    "])\n",
    "\n",
    "target = 'normal'\n",
    "# corr = correlation_mtx(img)\n",
    "corr = correlation_val(img)\n",
    "homo = homogeneity(img)\n",
    "ent = entropy(img)\n",
    "var = variance(img)\n",
    "cont = contrast(img)\n",
    "lre = longRunEmphasis(img)\n",
    "rp = runePercentage(img)\n",
    "\n",
    "row = {\n",
    "    'target': target,\n",
    "    'correlation': corr,\n",
    "    'homogeneity': homo,\n",
    "    'entropy': ent,\n",
    "    'variance': var,\n",
    "    'contrast': cont,\n",
    "    'longRunEmphasis': lre,\n",
    "    'runePercentage': rp\n",
    "    }\n",
    "data.append(row,ignore_index=True)"
   ]
  },
  {
   "cell_type": "code",
   "execution_count": null,
   "id": "b00de23f",
   "metadata": {},
   "outputs": [],
   "source": []
  }
 ],
 "metadata": {
  "kernelspec": {
   "display_name": "Python 3",
   "language": "python",
   "name": "python3"
  },
  "language_info": {
   "codemirror_mode": {
    "name": "ipython",
    "version": 3
   },
   "file_extension": ".py",
   "mimetype": "text/x-python",
   "name": "python",
   "nbconvert_exporter": "python",
   "pygments_lexer": "ipython3",
   "version": "3.8.8"
  }
 },
 "nbformat": 4,
 "nbformat_minor": 5
}

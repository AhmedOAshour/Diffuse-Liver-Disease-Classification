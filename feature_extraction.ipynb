{
 "cells": [
  {
   "cell_type": "code",
   "execution_count": 35,
   "id": "1947ef7c",
   "metadata": {
    "scrolled": true
   },
   "outputs": [
    {
     "name": "stdout",
     "output_type": "stream",
     "text": [
      "[[  0   4   8  12  16  20  24  28]\n",
      " [ 32  36  40  44  48  52  56  60]\n",
      " [ 64  68  72  76  80  84  88  92]\n",
      " [ 96 100 104 108 112 116 120 124]\n",
      " [128 132 136 140 144 148 152 156]\n",
      " [160 164 168 172 176 180 184 188]\n",
      " [192 196 200 204 208 212 216 220]\n",
      " [224 228 232 236 240 244 248 252]]\n"
     ]
    }
   ],
   "source": [
    "import numpy as np\n",
    "from matplotlib import pyplot as plt\n",
    "import math\n",
    "\n",
    "img = np.arange(0,255,4).reshape((8, 8))\n",
    "print(img)"
   ]
  },
  {
   "cell_type": "code",
   "execution_count": 51,
   "id": "34cf40c3",
   "metadata": {
    "scrolled": true
   },
   "outputs": [
    {
     "name": "stdout",
     "output_type": "stream",
     "text": [
      "[[ 13  30  23 166 188 237 193 125 186]\n",
      " [126 190 161 180  29  67  59  41 169]\n",
      " [206 225  77  80  40  99 194  46 122]\n",
      " [140   1 103  64  58  14 186 226   1]\n",
      " [145 219 150 118 142 237 137  88  68]\n",
      " [ 78 108   2  40 242  40   3 201  34]\n",
      " [ 77  81 212  18 198  81  47 245 154]\n",
      " [245 184 174  59 175 166  43 166  50]\n",
      " [ 66 107  22  57  76 159 151 143  29]]\n"
     ]
    }
   ],
   "source": [
    "rand_img = np.random.randint(0, 255, size = (9,9))\n",
    "print(rand_img)"
   ]
  },
  {
   "cell_type": "code",
   "execution_count": 53,
   "id": "670c0a50",
   "metadata": {},
   "outputs": [
    {
     "data": {
      "text/plain": [
       "array([[ 1.        ,  0.63173596,  0.46808527, -0.15766216, -0.32463463,\n",
       "        -0.10962613, -0.07380689, -0.24736541, -0.28958441],\n",
       "       [ 0.63173596,  1.        ,  0.31675629,  0.17291587, -0.23904206,\n",
       "         0.23450588, -0.20152667, -0.70220303,  0.11290152],\n",
       "       [ 0.46808527,  0.31675629,  1.        , -0.04750146, -0.0824894 ,\n",
       "        -0.04919215, -0.32220206,  0.05188949,  0.23458364],\n",
       "       [-0.15766216,  0.17291587, -0.04750146,  1.        , -0.33503551,\n",
       "         0.39685792,  0.30920178, -0.72716904,  0.56253581],\n",
       "       [-0.32463463, -0.23904206, -0.0824894 , -0.33503551,  1.        ,\n",
       "         0.22408705, -0.51717961,  0.5533037 ,  0.01013573],\n",
       "       [-0.10962613,  0.23450588, -0.04919215,  0.39685792,  0.22408705,\n",
       "         1.        ,  0.31233262, -0.35852225,  0.2458752 ],\n",
       "       [-0.07380689, -0.20152667, -0.32220206,  0.30920178, -0.51717961,\n",
       "         0.31233262,  1.        , -0.30980794,  0.03427709],\n",
       "       [-0.24736541, -0.70220303,  0.05188949, -0.72716904,  0.5533037 ,\n",
       "        -0.35852225, -0.30980794,  1.        , -0.40998949],\n",
       "       [-0.28958441,  0.11290152,  0.23458364,  0.56253581,  0.01013573,\n",
       "         0.2458752 ,  0.03427709, -0.40998949,  1.        ]])"
      ]
     },
     "execution_count": 53,
     "metadata": {},
     "output_type": "execute_result"
    }
   ],
   "source": [
    "correlation_mtx(rand_img)"
   ]
  },
  {
   "cell_type": "code",
   "execution_count": 37,
   "id": "4f7ba956",
   "metadata": {},
   "outputs": [
    {
     "data": {
      "text/plain": [
       "array([[5376., 5376., 5376., 5376., 5376., 5376., 5376., 5376.],\n",
       "       [5376., 5376., 5376., 5376., 5376., 5376., 5376., 5376.],\n",
       "       [5376., 5376., 5376., 5376., 5376., 5376., 5376., 5376.],\n",
       "       [5376., 5376., 5376., 5376., 5376., 5376., 5376., 5376.],\n",
       "       [5376., 5376., 5376., 5376., 5376., 5376., 5376., 5376.],\n",
       "       [5376., 5376., 5376., 5376., 5376., 5376., 5376., 5376.],\n",
       "       [5376., 5376., 5376., 5376., 5376., 5376., 5376., 5376.],\n",
       "       [5376., 5376., 5376., 5376., 5376., 5376., 5376., 5376.]])"
      ]
     },
     "execution_count": 37,
     "metadata": {},
     "output_type": "execute_result"
    }
   ],
   "source": [
    "# covariance matrix irrelevant for now\n",
    "np.cov(img, rowvar = False, bias = True)"
   ]
  },
  {
   "cell_type": "code",
   "execution_count": 38,
   "id": "3fc94a89",
   "metadata": {},
   "outputs": [],
   "source": [
    "def correlation_mtx(img):\n",
    "    return np.corrcoef(img, rowvar = False)"
   ]
  },
  {
   "cell_type": "code",
   "execution_count": 39,
   "id": "d6bf78df",
   "metadata": {},
   "outputs": [],
   "source": [
    "def correlation_val(img):\n",
    "    # from paper\n",
    "    res = 0\n",
    "    mean_y = np.mean(img,axis=0)\n",
    "    mean_x = np.mean(img,axis=1)\n",
    "    var_y = np.var(img,axis=0)\n",
    "    var_x = np.var(img,axis=1)\n",
    "    for i in range(img.shape[0]):\n",
    "        for j in range(img.shape[1]):\n",
    "            res += (img[i,j] * (mean_x[i]*mean_y[j]) / (var_x[i]*var_y[j]))\n",
    "    return res"
   ]
  },
  {
   "cell_type": "code",
   "execution_count": 40,
   "id": "e46f8318",
   "metadata": {},
   "outputs": [],
   "source": [
    "def homogeneity(img):\n",
    "    res = 0\n",
    "    for i in range(img.shape[0]):\n",
    "        for j in range(img.shape[1]):\n",
    "            res += img[i,j] / (1 + abs(j - i))\n",
    "    print(res)"
   ]
  },
  {
   "cell_type": "code",
   "execution_count": 41,
   "id": "fb18f92c",
   "metadata": {},
   "outputs": [],
   "source": [
    "def entropy(img):\n",
    "    res = 0\n",
    "    for i in range(img.shape[0]):\n",
    "        for j in range(img.shape[1]):\n",
    "            res += (img[i,j]+0.01) * math.log(img[i,j]+0.01) # If pixel value is 0 log is infinite\n",
    "            #  add\n",
    "    return res * -1"
   ]
  },
  {
   "cell_type": "code",
   "execution_count": 42,
   "id": "1d7e21ca",
   "metadata": {},
   "outputs": [],
   "source": [
    "def variance(img):\n",
    "    return np.var(img)"
   ]
  },
  {
   "cell_type": "code",
   "execution_count": 43,
   "id": "84e14a96",
   "metadata": {},
   "outputs": [],
   "source": [
    "def contrast(img):\n",
    "    res = 0\n",
    "    res1 = 0\n",
    "    for i in range(img.shape[0]):\n",
    "        for j in range(img.shape[1]):\n",
    "            n = math.pow(i-j,2)\n",
    "            res += img[j,i] * n\n",
    "    return res"
   ]
  },
  {
   "cell_type": "code",
   "execution_count": 44,
   "id": "6a11d640",
   "metadata": {},
   "outputs": [],
   "source": [
    "# Pyradiomics glrlm\n",
    "def longRunEmphasis(img):\n",
    "    return 1"
   ]
  },
  {
   "cell_type": "code",
   "execution_count": 45,
   "id": "3aa6f5d8",
   "metadata": {},
   "outputs": [],
   "source": [
    "def runePercentage(img):\n",
    "    return 1"
   ]
  },
  {
   "cell_type": "code",
   "execution_count": 46,
   "id": "a7d4b1e6",
   "metadata": {},
   "outputs": [],
   "source": [
    "def var_mtx(img):\n",
    "    return np.var(img,axis=0), np.var(img,axis=1)"
   ]
  },
  {
   "cell_type": "code",
   "execution_count": 48,
   "id": "84d328a3",
   "metadata": {},
   "outputs": [
    {
     "name": "stdout",
     "output_type": "stream",
     "text": [
      "3140.1\n"
     ]
    },
    {
     "data": {
      "text/html": [
       "<div>\n",
       "<style scoped>\n",
       "    .dataframe tbody tr th:only-of-type {\n",
       "        vertical-align: middle;\n",
       "    }\n",
       "\n",
       "    .dataframe tbody tr th {\n",
       "        vertical-align: top;\n",
       "    }\n",
       "\n",
       "    .dataframe thead th {\n",
       "        text-align: right;\n",
       "    }\n",
       "</style>\n",
       "<table border=\"1\" class=\"dataframe\">\n",
       "  <thead>\n",
       "    <tr style=\"text-align: right;\">\n",
       "      <th></th>\n",
       "      <th>target</th>\n",
       "      <th>correlation</th>\n",
       "      <th>homogeneity</th>\n",
       "      <th>entropy</th>\n",
       "      <th>variance</th>\n",
       "      <th>contrast</th>\n",
       "      <th>longRunEmphasis</th>\n",
       "      <th>runePercentage</th>\n",
       "    </tr>\n",
       "  </thead>\n",
       "  <tbody>\n",
       "    <tr>\n",
       "      <th>0</th>\n",
       "      <td>normal</td>\n",
       "      <td>5.104328</td>\n",
       "      <td>None</td>\n",
       "      <td>-40626.159692</td>\n",
       "      <td>5460.0</td>\n",
       "      <td>84672.0</td>\n",
       "      <td>1</td>\n",
       "      <td>1</td>\n",
       "    </tr>\n",
       "  </tbody>\n",
       "</table>\n",
       "</div>"
      ],
      "text/plain": [
       "   target  correlation homogeneity       entropy  variance  contrast  \\\n",
       "0  normal     5.104328        None -40626.159692    5460.0   84672.0   \n",
       "\n",
       "  longRunEmphasis runePercentage  \n",
       "0               1              1  "
      ]
     },
     "execution_count": 48,
     "metadata": {},
     "output_type": "execute_result"
    }
   ],
   "source": [
    "import pandas as pd\n",
    "\n",
    "data = pd.DataFrame(columns=[\n",
    "    'target',\n",
    "    'correlation',\n",
    "    'homogeneity',\n",
    "    'entropy',\n",
    "    'variance',\n",
    "    'contrast',\n",
    "    'longRunEmphasis',\n",
    "    'runePercentage'\n",
    "])\n",
    "\n",
    "target = 'normal'\n",
    "# corr = correlation_mtx(img)\n",
    "corr = correlation_val(img)\n",
    "homo = homogeneity(img)\n",
    "ent = entropy(img)\n",
    "var = variance(img)\n",
    "cont = contrast(img)\n",
    "lre = longRunEmphasis(img)\n",
    "rp = runePercentage(img)\n",
    "\n",
    "row = {\n",
    "    'target': target,\n",
    "    'correlation': corr,\n",
    "    'homogeneity': homo,\n",
    "    'entropy': ent,\n",
    "    'variance': var,\n",
    "    'contrast': cont,\n",
    "    'longRunEmphasis': lre,\n",
    "    'runePercentage': rp\n",
    "    }\n",
    "data.append(row,ignore_index=True)"
   ]
  },
  {
   "cell_type": "code",
   "execution_count": null,
   "id": "1ca5c1aa",
   "metadata": {},
   "outputs": [],
   "source": []
  }
 ],
 "metadata": {
  "kernelspec": {
   "display_name": "Python 3",
   "language": "python",
   "name": "python3"
  },
  "language_info": {
   "codemirror_mode": {
    "name": "ipython",
    "version": 3
   },
   "file_extension": ".py",
   "mimetype": "text/x-python",
   "name": "python",
   "nbconvert_exporter": "python",
   "pygments_lexer": "ipython3",
   "version": "3.8.8"
  }
 },
 "nbformat": 4,
 "nbformat_minor": 5
}

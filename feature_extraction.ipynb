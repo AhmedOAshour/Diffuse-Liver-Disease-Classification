{
 "cells": [
  {
   "cell_type": "code",
   "execution_count": 72,
   "id": "1947ef7c",
   "metadata": {
    "scrolled": true
   },
   "outputs": [
    {
     "name": "stdout",
     "output_type": "stream",
     "text": [
      "[[  0   4   8  12  16  20  24  28]\n",
      " [ 32  36  40  44  48  52  56  60]\n",
      " [ 64  68  72  76  80  84  88  92]\n",
      " [ 96 100 104 108 112 116 120 124]\n",
      " [128 132 136 140 144 148 152 156]\n",
      " [160 164 168 172 176 180 184 188]\n",
      " [192 196 200 204 208 212 216 220]\n",
      " [224 228 232 236 240 244 248 252]]\n"
     ]
    }
   ],
   "source": [
    "import numpy as np\n",
    "from matplotlib import pyplot as plt\n",
    "import math\n",
    "\n",
    "img = np.arange(0,255,4).reshape((8, 8))\n",
    "print(img)"
   ]
  },
  {
   "cell_type": "code",
   "execution_count": 73,
   "id": "4f7ba956",
   "metadata": {},
   "outputs": [
    {
     "data": {
      "text/plain": [
       "array([[5376., 5376., 5376., 5376., 5376., 5376., 5376., 5376.],\n",
       "       [5376., 5376., 5376., 5376., 5376., 5376., 5376., 5376.],\n",
       "       [5376., 5376., 5376., 5376., 5376., 5376., 5376., 5376.],\n",
       "       [5376., 5376., 5376., 5376., 5376., 5376., 5376., 5376.],\n",
       "       [5376., 5376., 5376., 5376., 5376., 5376., 5376., 5376.],\n",
       "       [5376., 5376., 5376., 5376., 5376., 5376., 5376., 5376.],\n",
       "       [5376., 5376., 5376., 5376., 5376., 5376., 5376., 5376.],\n",
       "       [5376., 5376., 5376., 5376., 5376., 5376., 5376., 5376.]])"
      ]
     },
     "execution_count": 73,
     "metadata": {},
     "output_type": "execute_result"
    }
   ],
   "source": [
    "# covariance matrix irrelevant for now\n",
    "np.cov(img, rowvar = False, bias = True)"
   ]
  },
  {
   "cell_type": "code",
   "execution_count": 74,
   "id": "3fc94a89",
   "metadata": {},
   "outputs": [],
   "source": [
    "def correlation(img):\n",
    "    return np.corrcoef(img, rowvar = False)"
   ]
  },
  {
   "cell_type": "code",
   "execution_count": 75,
   "id": "e46f8318",
   "metadata": {},
   "outputs": [],
   "source": [
    "def homogeneity(img):\n",
    "    res = 0\n",
    "    for i in range(img.shape[0]):\n",
    "        for j in range(img.shape[1]):\n",
    "            res += img[i,j] / (1 + abs(j - i))\n",
    "    print(res)"
   ]
  },
  {
   "cell_type": "code",
   "execution_count": 76,
   "id": "fb18f92c",
   "metadata": {},
   "outputs": [],
   "source": [
    "def entropy(img):\n",
    "    res = 0\n",
    "    for i in range(img.shape[0]):\n",
    "        for j in range(img.shape[1]):\n",
    "            res += (img[i,j]+0.01) * math.log(img[i,j]+0.01) # If pixel value is 0 log is infinite\n",
    "            #  add\n",
    "    return res * -1"
   ]
  },
  {
   "cell_type": "code",
   "execution_count": 77,
   "id": "1d7e21ca",
   "metadata": {},
   "outputs": [],
   "source": [
    "def variance(img):\n",
    "    return np.var(img)"
   ]
  },
  {
   "cell_type": "code",
   "execution_count": 78,
   "id": "84e14a96",
   "metadata": {},
   "outputs": [],
   "source": [
    "def contrast(img):\n",
    "    res = 0\n",
    "    res1 = 0\n",
    "    for i in range(img.shape[0]):\n",
    "        for j in range(img.shape[1]):\n",
    "            n = math.pow(i-j,2)\n",
    "            res += img[j,i] * n\n",
    "    return res"
   ]
  },
  {
   "cell_type": "code",
   "execution_count": 79,
   "id": "6a11d640",
   "metadata": {},
   "outputs": [],
   "source": [
    "def longRunEmphasis(img):\n",
    "    return 1"
   ]
  },
  {
   "cell_type": "code",
   "execution_count": 80,
   "id": "3aa6f5d8",
   "metadata": {},
   "outputs": [],
   "source": [
    "def runePercentage(img):\n",
    "    return 1"
   ]
  },
  {
   "cell_type": "code",
   "execution_count": 81,
   "id": "a7d4b1e6",
   "metadata": {},
   "outputs": [],
   "source": [
    "def var_mtx(img):\n",
    "    return np.var(img,axis=0), np.var(img,axis=1)"
   ]
  },
  {
   "cell_type": "code",
   "execution_count": 82,
   "id": "84d328a3",
   "metadata": {},
   "outputs": [
    {
     "name": "stdout",
     "output_type": "stream",
     "text": [
      "3140.1\n"
     ]
    },
    {
     "data": {
      "text/html": [
       "<div>\n",
       "<style scoped>\n",
       "    .dataframe tbody tr th:only-of-type {\n",
       "        vertical-align: middle;\n",
       "    }\n",
       "\n",
       "    .dataframe tbody tr th {\n",
       "        vertical-align: top;\n",
       "    }\n",
       "\n",
       "    .dataframe thead th {\n",
       "        text-align: right;\n",
       "    }\n",
       "</style>\n",
       "<table border=\"1\" class=\"dataframe\">\n",
       "  <thead>\n",
       "    <tr style=\"text-align: right;\">\n",
       "      <th></th>\n",
       "      <th>correlation</th>\n",
       "      <th>homogeneity</th>\n",
       "      <th>entropy</th>\n",
       "      <th>variance</th>\n",
       "      <th>contrast</th>\n",
       "      <th>longRunEmphasis</th>\n",
       "      <th>runePercentage</th>\n",
       "      <th>target</th>\n",
       "    </tr>\n",
       "  </thead>\n",
       "  <tbody>\n",
       "    <tr>\n",
       "      <th>0</th>\n",
       "      <td>[[1.0, 1.0, 1.0, 1.0, 1.0, 1.0, 1.0, 1.0], [1....</td>\n",
       "      <td>None</td>\n",
       "      <td>-40626.159692</td>\n",
       "      <td>5460.0</td>\n",
       "      <td>84672.0</td>\n",
       "      <td>1</td>\n",
       "      <td>1</td>\n",
       "      <td>normal</td>\n",
       "    </tr>\n",
       "  </tbody>\n",
       "</table>\n",
       "</div>"
      ],
      "text/plain": [
       "                                         correlation homogeneity  \\\n",
       "0  [[1.0, 1.0, 1.0, 1.0, 1.0, 1.0, 1.0, 1.0], [1....        None   \n",
       "\n",
       "        entropy  variance  contrast longRunEmphasis runePercentage  target  \n",
       "0 -40626.159692    5460.0   84672.0               1              1  normal  "
      ]
     },
     "execution_count": 82,
     "metadata": {},
     "output_type": "execute_result"
    }
   ],
   "source": [
    "import pandas as pd\n",
    "\n",
    "X = pd.DataFrame(columns=[\n",
    "    'target',\n",
    "    'correlation',\n",
    "    'homogeneity',\n",
    "    'entropy',\n",
    "    'variance',\n",
    "    'contrast',\n",
    "    'longRunEmphasis',\n",
    "    'runePercentage'\n",
    "])\n",
    "\n",
    "target = 'normal'\n",
    "corr = correlation(img)\n",
    "homo = homogeneity(img)\n",
    "ent = entropy(img)\n",
    "var = variance(img)\n",
    "cont = contrast(img)\n",
    "lre = longRunEmphasis(img)\n",
    "rp = runePercentage(img)\n",
    "\n",
    "row = {\n",
    "    'target': target,\n",
    "    'correlation': corr,\n",
    "    'homogeneity': homo,\n",
    "    'entropy': ent,\n",
    "    'variance': var,\n",
    "    'contrast': cont,\n",
    "    'longRunEmphasis': lre,\n",
    "    'runePercentage': rp\n",
    "    }\n",
    "data.append(row,ignore_index=True)"
   ]
  },
  {
   "cell_type": "code",
   "execution_count": null,
   "id": "1ca5c1aa",
   "metadata": {},
   "outputs": [],
   "source": []
  }
 ],
 "metadata": {
  "kernelspec": {
   "display_name": "Python 3",
   "language": "python",
   "name": "python3"
  },
  "language_info": {
   "codemirror_mode": {
    "name": "ipython",
    "version": 3
   },
   "file_extension": ".py",
   "mimetype": "text/x-python",
   "name": "python",
   "nbconvert_exporter": "python",
   "pygments_lexer": "ipython3",
   "version": "3.8.8"
  }
 },
 "nbformat": 4,
 "nbformat_minor": 5
}

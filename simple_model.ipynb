{
 "cells": [
  {
   "cell_type": "code",
   "execution_count": 1,
   "id": "4159faec",
   "metadata": {},
   "outputs": [],
   "source": [
    "import cv2 as cv\n",
    "import numpy as np\n",
    "import os\n",
    "from skimage.feature.texture import greycomatrix\n",
    "from skimage.feature.texture import greycoprops\n",
    "from skimage.measure import shannon_entropy\n",
    "import pyfeats\n",
    "import pandas as pd"
   ]
  },
  {
   "cell_type": "code",
   "execution_count": 2,
   "id": "7b259531",
   "metadata": {},
   "outputs": [],
   "source": [
    "def read_images(folder = \"dataset/train\",\n",
    "                classes = [\n",
    "                            \"normal\",\n",
    "                            \"fatty\",\n",
    "#                             \"cirrhosis\"\n",
    "                        ]):\n",
    "    image_names = {}\n",
    "    images = {}\n",
    "    # Get all image names in folders\n",
    "    for cls in classes:\n",
    "        image_names[cls] = os.listdir(f'{folder}/{cls}')\n",
    "\n",
    "    # read all images to list\n",
    "    for cls in classes:\n",
    "        images[cls] = []\n",
    "        for name in image_names[cls]:\n",
    "            img = cv.imread(f'{folder}/{cls}/{name}', cv.IMREAD_GRAYSCALE)\n",
    "            images[cls].append(img)\n",
    "    return images"
   ]
  },
  {
   "cell_type": "code",
   "execution_count": 3,
   "id": "942229a2",
   "metadata": {},
   "outputs": [],
   "source": [
    "def extract_roi(img, start , size = (32,32)):\n",
    "    roi = img[start[0]:start[0]+size[0],start[1]:start[1]+size[1]]\n",
    "    mask = np.zeros(img.shape)\n",
    "    mask[start[0]:start[0]+size[0],start[1]:start[1]+size[1]] = 1\n",
    "    return roi, mask"
   ]
  },
  {
   "cell_type": "code",
   "execution_count": 4,
   "id": "d61c1db3",
   "metadata": {},
   "outputs": [],
   "source": [
    "def feature_extraction(img):\n",
    "    roi_pos = [\n",
    "        (160,230),\n",
    "        (118,224),\n",
    "        (241,151),\n",
    "        (120,420),\n",
    "        (170,300),\n",
    "        (400,200),\n",
    "        (300,120),\n",
    "        (240,240),\n",
    "        (360,160)\n",
    "    ]\n",
    "    \n",
    "    roi_arr = []\n",
    "    mask_arr = []\n",
    "    for pos in roi_pos:\n",
    "        roi, mask = extract_roi(img, pos)\n",
    "        roi_arr.append(roi)\n",
    "        mask_arr.append(mask)\n",
    "    \n",
    "    features = {}\n",
    "    # 0 45 90 135 degrees\n",
    "    angles = [0, np.pi / 4, np.pi / 2, 3 * np.pi / 4]\n",
    "    \n",
    "    da_dict = {\n",
    "        0: \"d1_0\",\n",
    "        1: \"d1_45\",\n",
    "        2: \"d1_90\",\n",
    "        3: \"d1_135\",\n",
    "        \n",
    "        4: \"d2_0\",\n",
    "        5: \"d2_45\",\n",
    "        6: \"d2_90\",\n",
    "        7: \"d2_135\",\n",
    "        \n",
    "        8: \"d3_0\",\n",
    "        9: \"d3_45\",\n",
    "        10: \"d3_90\",\n",
    "        11: \"d3_135\",\n",
    "        \n",
    "    }\n",
    "    \n",
    "    for i in range(len(roi_pos)):\n",
    "        glcm_mtx = greycomatrix(roi, distances = [1,2,3], angles = angles, levels = 256)\n",
    "        con = greycoprops(glcm_mtx, 'contrast').flatten()\n",
    "        hom = greycoprops(glcm_mtx, 'homogeneity').flatten()\n",
    "        en = greycoprops(glcm_mtx, 'energy').flatten()\n",
    "        corr = greycoprops(glcm_mtx, 'correlation').flatten()\n",
    "        \n",
    "        for j in range(len(da_dict)):\n",
    "            features[f'r{i}_contrast_{da_dict[j]}'] = con[j]\n",
    "            features[f'r{i}_homogeneity_{da_dict[j]}'] = hom[j]\n",
    "            features[f'r{i}_energy_{da_dict[j]}'] = en[j]\n",
    "            features[f'r{i}_correlation_{da_dict[j]}'] = corr[j]\n",
    "            \n",
    "        features[f'r{i}_entropy'] = shannon_entropy(roi)\n",
    "\n",
    "        feat, labels = pyfeats.glrlm_features(img, mask, 256)\n",
    "        glrlm = {l : f for l,f in zip(labels,feat)}\n",
    "        features[f'r{i}_longRunEmphasis'] = glrlm['GLRLM_LongRunEmphasis']\n",
    "        features[f'r{i}_runPercentage'] = glrlm['GLRLM_RunPercentage']\n",
    "    return features"
   ]
  },
  {
   "cell_type": "code",
   "execution_count": 6,
   "id": "78655b66",
   "metadata": {},
   "outputs": [],
   "source": [
    "def build_dataframe(images):\n",
    "    data = pd.DataFrame()\n",
    "\n",
    "    for cls in images:\n",
    "        for img in images[cls]:\n",
    "            row = feature_extraction(img)\n",
    "            row['target'] = cls\n",
    "            data = data.append(row,ignore_index=True)\n",
    "    return data"
   ]
  },
  {
   "cell_type": "code",
   "execution_count": 8,
   "id": "5f82b85b",
   "metadata": {},
   "outputs": [
    {
     "name": "stdout",
     "output_type": "stream",
     "text": [
      "Wall time: 10min 45s\n"
     ]
    }
   ],
   "source": [
    "%%time\n",
    "images = read_images()\n",
    "data = build_dataframe(images)\n",
    "data.describe()"
   ]
  },
  {
   "cell_type": "code",
   "execution_count": 10,
   "id": "bd13af97",
   "metadata": {
    "scrolled": false
   },
   "outputs": [
    {
     "name": "stdout",
     "output_type": "stream",
     "text": [
      "Wall time: 2.83 s\n"
     ]
    }
   ],
   "source": [
    "%%time\n",
    "from sklearn.model_selection import train_test_split\n",
    "\n",
    "X = data.drop(['target'],axis=1).values\n",
    "y = data['target'].values\n",
    "\n",
    "X_train, X_test, y_train, y_test = train_test_split(X, y, test_size=0.2, random_state=42)"
   ]
  },
  {
   "cell_type": "code",
   "execution_count": null,
   "id": "feaaf4a7",
   "metadata": {},
   "outputs": [],
   "source": [
    "# data = pd.read_csv(\"40img_9_roi_3d_4a.csv\")"
   ]
  },
  {
   "cell_type": "code",
   "execution_count": 11,
   "id": "48d0baf8",
   "metadata": {},
   "outputs": [
    {
     "name": "stdout",
     "output_type": "stream",
     "text": [
      "Wall time: 1.39 s\n"
     ]
    },
    {
     "data": {
      "text/plain": [
       "0.75"
      ]
     },
     "execution_count": 11,
     "metadata": {},
     "output_type": "execute_result"
    }
   ],
   "source": [
    "%%time\n",
    "from sklearn.tree import DecisionTreeClassifier\n",
    "from sklearn.metrics import accuracy_score\n",
    "\n",
    "dt = DecisionTreeClassifier()\n",
    "dt.fit(X_train,y_train)\n",
    "\n",
    "y_pred = dt.predict(X_test)\n",
    "\n",
    "accuracy_score(y_test, y_pred)"
   ]
  },
  {
   "cell_type": "code",
   "execution_count": 12,
   "id": "e5a0da0c",
   "metadata": {},
   "outputs": [
    {
     "name": "stdout",
     "output_type": "stream",
     "text": [
      "Wall time: 169 ms\n"
     ]
    },
    {
     "data": {
      "text/plain": [
       "0.375"
      ]
     },
     "execution_count": 12,
     "metadata": {},
     "output_type": "execute_result"
    }
   ],
   "source": [
    "%%time\n",
    "from sklearn.svm import SVC\n",
    "\n",
    "svc = SVC()\n",
    "svc.fit(X_train,y_train)\n",
    "\n",
    "y_pred = svc.predict(X_test)\n",
    "\n",
    "accuracy_score(y_test, y_pred)"
   ]
  },
  {
   "cell_type": "code",
   "execution_count": 25,
   "id": "856c62c4",
   "metadata": {},
   "outputs": [
    {
     "name": "stdout",
     "output_type": "stream",
     "text": [
      "Wall time: 100 ms\n"
     ]
    },
    {
     "data": {
      "text/plain": [
       "0.625"
      ]
     },
     "execution_count": 25,
     "metadata": {},
     "output_type": "execute_result"
    }
   ],
   "source": [
    "%%time\n",
    "from sklearn.ensemble import RandomForestClassifier\n",
    "\n",
    "rf = RandomForestClassifier()\n",
    "rf.fit(X_train,y_train)\n",
    "\n",
    "y_pred = rf.predict(X_test)\n",
    "\n",
    "accuracy_score(y_test, y_pred)"
   ]
  },
  {
   "cell_type": "code",
   "execution_count": 26,
   "id": "de773211",
   "metadata": {
    "scrolled": false
   },
   "outputs": [
    {
     "name": "stdout",
     "output_type": "stream",
     "text": [
      "              precision    recall  f1-score  support\n",
      "fatty           0.50000  0.666667  0.571429    3.000\n",
      "normal          0.75000  0.600000  0.666667    5.000\n",
      "accuracy        0.62500  0.625000  0.625000    0.625\n",
      "macro avg       0.62500  0.633333  0.619048    8.000\n",
      "weighted avg    0.65625  0.625000  0.630952    8.000\n"
     ]
    }
   ],
   "source": [
    "from sklearn.metrics import classification_report\n",
    "\n",
    "report = classification_report(y_test,y_pred, output_dict = True)\n",
    "cr = pd.DataFrame(report).transpose()\n",
    "print(cr)"
   ]
  },
  {
   "cell_type": "code",
   "execution_count": 27,
   "id": "8f1502eb",
   "metadata": {},
   "outputs": [],
   "source": [
    "# data.to_csv(\"dataset/40img_9_roi_3d_4a_32p.csv\",index = False)"
   ]
  },
  {
   "cell_type": "code",
   "execution_count": 29,
   "id": "10ee778d",
   "metadata": {
    "scrolled": true
   },
   "outputs": [
    {
     "data": {
      "text/html": [
       "<div>\n",
       "<style scoped>\n",
       "    .dataframe tbody tr th:only-of-type {\n",
       "        vertical-align: middle;\n",
       "    }\n",
       "\n",
       "    .dataframe tbody tr th {\n",
       "        vertical-align: top;\n",
       "    }\n",
       "\n",
       "    .dataframe thead th {\n",
       "        text-align: right;\n",
       "    }\n",
       "</style>\n",
       "<table border=\"1\" class=\"dataframe\">\n",
       "  <thead>\n",
       "    <tr style=\"text-align: right;\">\n",
       "      <th></th>\n",
       "      <th>r0_contrast_d1_0</th>\n",
       "      <th>r0_homogeneity_d1_0</th>\n",
       "      <th>r0_energy_d1_0</th>\n",
       "      <th>r0_correlation_d1_0</th>\n",
       "      <th>r0_contrast_d1_45</th>\n",
       "      <th>r0_homogeneity_d1_45</th>\n",
       "      <th>r0_energy_d1_45</th>\n",
       "      <th>r0_correlation_d1_45</th>\n",
       "      <th>r0_contrast_d1_90</th>\n",
       "      <th>r0_homogeneity_d1_90</th>\n",
       "      <th>...</th>\n",
       "      <th>r8_energy_d3_90</th>\n",
       "      <th>r8_correlation_d3_90</th>\n",
       "      <th>r8_contrast_d3_135</th>\n",
       "      <th>r8_homogeneity_d3_135</th>\n",
       "      <th>r8_energy_d3_135</th>\n",
       "      <th>r8_correlation_d3_135</th>\n",
       "      <th>r8_entropy</th>\n",
       "      <th>r8_longRunEmphasis</th>\n",
       "      <th>r8_runPercentage</th>\n",
       "      <th>target</th>\n",
       "    </tr>\n",
       "  </thead>\n",
       "  <tbody>\n",
       "    <tr>\n",
       "      <th>0</th>\n",
       "      <td>89.731855</td>\n",
       "      <td>0.939718</td>\n",
       "      <td>0.886578</td>\n",
       "      <td>0.033166</td>\n",
       "      <td>93.103018</td>\n",
       "      <td>0.914784</td>\n",
       "      <td>0.869653</td>\n",
       "      <td>0.027936</td>\n",
       "      <td>90.546371</td>\n",
       "      <td>0.904934</td>\n",
       "      <td>...</td>\n",
       "      <td>0.821731</td>\n",
       "      <td>-0.004318</td>\n",
       "      <td>102.082222</td>\n",
       "      <td>0.873623</td>\n",
       "      <td>0.832643</td>\n",
       "      <td>-0.000214</td>\n",
       "      <td>0.703808</td>\n",
       "      <td>2.356688</td>\n",
       "      <td>0.837976</td>\n",
       "      <td>normal</td>\n",
       "    </tr>\n",
       "    <tr>\n",
       "      <th>1</th>\n",
       "      <td>5.013105</td>\n",
       "      <td>0.395582</td>\n",
       "      <td>0.105698</td>\n",
       "      <td>0.869536</td>\n",
       "      <td>10.825182</td>\n",
       "      <td>0.318207</td>\n",
       "      <td>0.090925</td>\n",
       "      <td>0.718623</td>\n",
       "      <td>18.164315</td>\n",
       "      <td>0.246270</td>\n",
       "      <td>...</td>\n",
       "      <td>0.078774</td>\n",
       "      <td>0.306302</td>\n",
       "      <td>27.078889</td>\n",
       "      <td>0.227901</td>\n",
       "      <td>0.080416</td>\n",
       "      <td>0.290634</td>\n",
       "      <td>4.105821</td>\n",
       "      <td>1.559836</td>\n",
       "      <td>0.920630</td>\n",
       "      <td>normal</td>\n",
       "    </tr>\n",
       "    <tr>\n",
       "      <th>2</th>\n",
       "      <td>5.683468</td>\n",
       "      <td>0.400243</td>\n",
       "      <td>0.097256</td>\n",
       "      <td>0.875538</td>\n",
       "      <td>12.657648</td>\n",
       "      <td>0.285346</td>\n",
       "      <td>0.081585</td>\n",
       "      <td>0.712816</td>\n",
       "      <td>22.167339</td>\n",
       "      <td>0.227407</td>\n",
       "      <td>...</td>\n",
       "      <td>0.072206</td>\n",
       "      <td>0.275135</td>\n",
       "      <td>28.236667</td>\n",
       "      <td>0.206442</td>\n",
       "      <td>0.072538</td>\n",
       "      <td>0.342274</td>\n",
       "      <td>4.232786</td>\n",
       "      <td>1.496150</td>\n",
       "      <td>0.935151</td>\n",
       "      <td>normal</td>\n",
       "    </tr>\n",
       "    <tr>\n",
       "      <th>3</th>\n",
       "      <td>16.291331</td>\n",
       "      <td>0.284726</td>\n",
       "      <td>0.064169</td>\n",
       "      <td>0.920232</td>\n",
       "      <td>45.552549</td>\n",
       "      <td>0.178006</td>\n",
       "      <td>0.053557</td>\n",
       "      <td>0.776029</td>\n",
       "      <td>85.036290</td>\n",
       "      <td>0.126718</td>\n",
       "      <td>...</td>\n",
       "      <td>0.047365</td>\n",
       "      <td>0.112876</td>\n",
       "      <td>175.201111</td>\n",
       "      <td>0.085479</td>\n",
       "      <td>0.048177</td>\n",
       "      <td>0.127520</td>\n",
       "      <td>5.149397</td>\n",
       "      <td>1.502168</td>\n",
       "      <td>0.933964</td>\n",
       "      <td>normal</td>\n",
       "    </tr>\n",
       "    <tr>\n",
       "      <th>4</th>\n",
       "      <td>13.194556</td>\n",
       "      <td>0.297156</td>\n",
       "      <td>0.069724</td>\n",
       "      <td>0.927491</td>\n",
       "      <td>40.473465</td>\n",
       "      <td>0.196302</td>\n",
       "      <td>0.058430</td>\n",
       "      <td>0.777981</td>\n",
       "      <td>68.730847</td>\n",
       "      <td>0.149869</td>\n",
       "      <td>...</td>\n",
       "      <td>0.051069</td>\n",
       "      <td>0.076517</td>\n",
       "      <td>166.511111</td>\n",
       "      <td>0.099671</td>\n",
       "      <td>0.051759</td>\n",
       "      <td>0.093918</td>\n",
       "      <td>4.961775</td>\n",
       "      <td>1.821516</td>\n",
       "      <td>1.053454</td>\n",
       "      <td>normal</td>\n",
       "    </tr>\n",
       "  </tbody>\n",
       "</table>\n",
       "<p>5 rows × 460 columns</p>\n",
       "</div>"
      ],
      "text/plain": [
       "   r0_contrast_d1_0  r0_homogeneity_d1_0  r0_energy_d1_0  r0_correlation_d1_0  \\\n",
       "0         89.731855             0.939718        0.886578             0.033166   \n",
       "1          5.013105             0.395582        0.105698             0.869536   \n",
       "2          5.683468             0.400243        0.097256             0.875538   \n",
       "3         16.291331             0.284726        0.064169             0.920232   \n",
       "4         13.194556             0.297156        0.069724             0.927491   \n",
       "\n",
       "   r0_contrast_d1_45  r0_homogeneity_d1_45  r0_energy_d1_45  \\\n",
       "0          93.103018              0.914784         0.869653   \n",
       "1          10.825182              0.318207         0.090925   \n",
       "2          12.657648              0.285346         0.081585   \n",
       "3          45.552549              0.178006         0.053557   \n",
       "4          40.473465              0.196302         0.058430   \n",
       "\n",
       "   r0_correlation_d1_45  r0_contrast_d1_90  r0_homogeneity_d1_90  ...  \\\n",
       "0              0.027936          90.546371              0.904934  ...   \n",
       "1              0.718623          18.164315              0.246270  ...   \n",
       "2              0.712816          22.167339              0.227407  ...   \n",
       "3              0.776029          85.036290              0.126718  ...   \n",
       "4              0.777981          68.730847              0.149869  ...   \n",
       "\n",
       "   r8_energy_d3_90  r8_correlation_d3_90  r8_contrast_d3_135  \\\n",
       "0         0.821731             -0.004318          102.082222   \n",
       "1         0.078774              0.306302           27.078889   \n",
       "2         0.072206              0.275135           28.236667   \n",
       "3         0.047365              0.112876          175.201111   \n",
       "4         0.051069              0.076517          166.511111   \n",
       "\n",
       "   r8_homogeneity_d3_135  r8_energy_d3_135  r8_correlation_d3_135  r8_entropy  \\\n",
       "0               0.873623          0.832643              -0.000214    0.703808   \n",
       "1               0.227901          0.080416               0.290634    4.105821   \n",
       "2               0.206442          0.072538               0.342274    4.232786   \n",
       "3               0.085479          0.048177               0.127520    5.149397   \n",
       "4               0.099671          0.051759               0.093918    4.961775   \n",
       "\n",
       "   r8_longRunEmphasis  r8_runPercentage  target  \n",
       "0            2.356688          0.837976  normal  \n",
       "1            1.559836          0.920630  normal  \n",
       "2            1.496150          0.935151  normal  \n",
       "3            1.502168          0.933964  normal  \n",
       "4            1.821516          1.053454  normal  \n",
       "\n",
       "[5 rows x 460 columns]"
      ]
     },
     "execution_count": 29,
     "metadata": {},
     "output_type": "execute_result"
    }
   ],
   "source": [
    "data.head()"
   ]
  },
  {
   "cell_type": "code",
   "execution_count": null,
   "id": "da772d76",
   "metadata": {},
   "outputs": [],
   "source": []
  }
 ],
 "metadata": {
  "kernelspec": {
   "display_name": "Python 3",
   "language": "python",
   "name": "python3"
  },
  "language_info": {
   "codemirror_mode": {
    "name": "ipython",
    "version": 3
   },
   "file_extension": ".py",
   "mimetype": "text/x-python",
   "name": "python",
   "nbconvert_exporter": "python",
   "pygments_lexer": "ipython3",
   "version": "3.8.8"
  }
 },
 "nbformat": 4,
 "nbformat_minor": 5
}

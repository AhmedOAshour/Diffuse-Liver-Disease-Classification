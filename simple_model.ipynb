{
 "cells": [
  {
   "cell_type": "code",
   "execution_count": 1,
   "id": "4159faec",
   "metadata": {},
   "outputs": [],
   "source": [
    "import cv2 as cv\n",
    "import numpy as np\n",
    "import os\n",
    "from skimage.feature.texture import greycomatrix\n",
    "from skimage.feature.texture import greycoprops\n",
    "from skimage.measure import shannon_entropy\n",
    "import pyfeats"
   ]
  },
  {
   "cell_type": "code",
   "execution_count": 2,
   "id": "7b259531",
   "metadata": {},
   "outputs": [],
   "source": [
    "def read_images(folder = \"dataset/train\",\n",
    "                classes = [\n",
    "                            \"normal\",\n",
    "                            \"fatty\",\n",
    "#                             \"cirrhosis\"\n",
    "                        ]):\n",
    "    image_names = {}\n",
    "    images = {}\n",
    "    # Get all image names in folders\n",
    "    for cls in classes:\n",
    "        image_names[cls] = os.listdir(f'{folder}/{cls}')\n",
    "\n",
    "    # read all images to list\n",
    "    for cls in classes:\n",
    "        images[cls] = []\n",
    "        for name in image_names[cls]:\n",
    "            img = cv.imread(f'{folder}/{cls}/{name}', cv.IMREAD_GRAYSCALE)\n",
    "            images[cls].append(img)\n",
    "    return images"
   ]
  },
  {
   "cell_type": "code",
   "execution_count": 3,
   "id": "942229a2",
   "metadata": {},
   "outputs": [],
   "source": [
    "def extract_roi(img, start =(160,300) , size = (9,9)):\n",
    "    roi = img[start[0]:start[0]+size[0],start[1]:start[1]+size[1]]\n",
    "    mask = np.zeros(img.shape)\n",
    "    mask[40:49,40:49] = 1\n",
    "    return roi, mask"
   ]
  },
  {
   "cell_type": "code",
   "execution_count": 6,
   "id": "d61c1db3",
   "metadata": {},
   "outputs": [],
   "source": [
    "def feature_extraction(img):\n",
    "    roi, mask = extract_roi(img)\n",
    "    \n",
    "    features = {}\n",
    "    # 0 45 90 135 degrees\n",
    "    # angles = [0, np.pi / 4, np.pi / 2, 3 * np.pi / 4]\n",
    "    glcm_mtx = greycomatrix(roi, distances = [1], angles = [0], levels = 256)\n",
    "    columns = \n",
    "\n",
    "    features['contrast'] = greycoprops(glcm_mtx, 'contrast')[0,0]\n",
    "    features['homogeneity'] = greycoprops(glcm_mtx, 'homogeneity')[0,0]\n",
    "    features['energy'] = greycoprops(glcm_mtx, 'energy')[0,0]\n",
    "    features['correlation'] = greycoprops(glcm_mtx, 'correlation')[0,0]\n",
    "\n",
    "\n",
    "    features['entropy'] = shannon_entropy(roi)\n",
    "\n",
    "\n",
    "\n",
    "    feat, labels = pyfeats.glrlm_features(img, mask, 256)\n",
    "    glrlm = {l : f for l,f in zip(labels,feat)}\n",
    "    features['longRunEmphasis'] = glrlm['GLRLM_LongRunEmphasis']\n",
    "    features['runPercentage'] = glrlm['GLRLM_RunPercentage']\n",
    "    return features"
   ]
  },
  {
   "cell_type": "code",
   "execution_count": 7,
   "id": "f1aec5f5",
   "metadata": {},
   "outputs": [
    {
     "data": {
      "text/plain": [
       "{'contrast': 4.0,\n",
       " 'homogeneity': 0.44351432880844643,\n",
       " 'energy': 0.15590239111558088,\n",
       " 'correlation': 0.8917963295534402,\n",
       " 'entropy': 3.9407808223346885,\n",
       " 'longRunEmphasis': 2.356688326973246,\n",
       " 'runPercentage': 0.8379758628597638}"
      ]
     },
     "execution_count": 7,
     "metadata": {},
     "output_type": "execute_result"
    }
   ],
   "source": [
    "import pandas as pd\n",
    "img = cv.imread('dataset/train/normal/n1.jpg', cv.IMREAD_GRAYSCALE)\n",
    "feature_extraction(img)"
   ]
  },
  {
   "cell_type": "code",
   "execution_count": 47,
   "id": "78655b66",
   "metadata": {},
   "outputs": [],
   "source": [
    "def build_dataframe(images, columns=\"\"):\n",
    "    # dataframe consists of features of 1 ROI per image\n",
    "    # column name roiNum_feature\n",
    "    data = pd.DataFrame(index = \"name\", columns = [\n",
    "        'contrast',\n",
    "        'homogeneity',\n",
    "        'energy',\n",
    "        'correlation',\n",
    "        'entropy',\n",
    "        'longRunEmphasis',\n",
    "        'runPercentage',\n",
    "        'target'\n",
    "    ])\n",
    "    for cls in images:\n",
    "        for img in images[cls]:\n",
    "            row = feature_extraction(img)\n",
    "            row['target'] = cls\n",
    "            data = data.append(row,ignore_index=True)\n",
    "    return row, data"
   ]
  },
  {
   "cell_type": "code",
   "execution_count": 48,
   "id": "9b7c8430",
   "metadata": {},
   "outputs": [
    {
     "name": "stdout",
     "output_type": "stream",
     "text": [
      "Wall time: 1min 10s\n"
     ]
    }
   ],
   "source": [
    "%%time\n",
    "images = read_images()\n",
    "row, data = build_dataframe(images)"
   ]
  },
  {
   "cell_type": "code",
   "execution_count": 50,
   "id": "090deaa8",
   "metadata": {
    "scrolled": true
   },
   "outputs": [
    {
     "data": {
      "text/html": [
       "<div>\n",
       "<style scoped>\n",
       "    .dataframe tbody tr th:only-of-type {\n",
       "        vertical-align: middle;\n",
       "    }\n",
       "\n",
       "    .dataframe tbody tr th {\n",
       "        vertical-align: top;\n",
       "    }\n",
       "\n",
       "    .dataframe thead th {\n",
       "        text-align: right;\n",
       "    }\n",
       "</style>\n",
       "<table border=\"1\" class=\"dataframe\">\n",
       "  <thead>\n",
       "    <tr style=\"text-align: right;\">\n",
       "      <th></th>\n",
       "      <th>contrast</th>\n",
       "      <th>homogeneity</th>\n",
       "      <th>energy</th>\n",
       "      <th>correlation</th>\n",
       "      <th>entropy</th>\n",
       "      <th>longRunEmphasis</th>\n",
       "      <th>runPercentage</th>\n",
       "    </tr>\n",
       "  </thead>\n",
       "  <tbody>\n",
       "    <tr>\n",
       "      <th>count</th>\n",
       "      <td>40.000000</td>\n",
       "      <td>40.000000</td>\n",
       "      <td>40.000000</td>\n",
       "      <td>40.000000</td>\n",
       "      <td>40.000000</td>\n",
       "      <td>40.000000</td>\n",
       "      <td>40.000000</td>\n",
       "    </tr>\n",
       "    <tr>\n",
       "      <th>mean</th>\n",
       "      <td>44.198264</td>\n",
       "      <td>0.360875</td>\n",
       "      <td>0.144961</td>\n",
       "      <td>0.869691</td>\n",
       "      <td>4.223898</td>\n",
       "      <td>1.711326</td>\n",
       "      <td>0.974923</td>\n",
       "    </tr>\n",
       "    <tr>\n",
       "      <th>std</th>\n",
       "      <td>185.012921</td>\n",
       "      <td>0.073984</td>\n",
       "      <td>0.015503</td>\n",
       "      <td>0.188307</td>\n",
       "      <td>0.347410</td>\n",
       "      <td>0.361938</td>\n",
       "      <td>0.056691</td>\n",
       "    </tr>\n",
       "    <tr>\n",
       "      <th>min</th>\n",
       "      <td>1.847222</td>\n",
       "      <td>0.218489</td>\n",
       "      <td>0.125769</td>\n",
       "      <td>-0.072373</td>\n",
       "      <td>3.555415</td>\n",
       "      <td>1.403044</td>\n",
       "      <td>0.837976</td>\n",
       "    </tr>\n",
       "    <tr>\n",
       "      <th>25%</th>\n",
       "      <td>6.184028</td>\n",
       "      <td>0.296220</td>\n",
       "      <td>0.136083</td>\n",
       "      <td>0.876219</td>\n",
       "      <td>4.006589</td>\n",
       "      <td>1.510340</td>\n",
       "      <td>0.934854</td>\n",
       "    </tr>\n",
       "    <tr>\n",
       "      <th>50%</th>\n",
       "      <td>8.395833</td>\n",
       "      <td>0.370773</td>\n",
       "      <td>0.140955</td>\n",
       "      <td>0.912296</td>\n",
       "      <td>4.251664</td>\n",
       "      <td>1.559616</td>\n",
       "      <td>0.971073</td>\n",
       "    </tr>\n",
       "    <tr>\n",
       "      <th>75%</th>\n",
       "      <td>12.218750</td>\n",
       "      <td>0.403515</td>\n",
       "      <td>0.153721</td>\n",
       "      <td>0.947545</td>\n",
       "      <td>4.425140</td>\n",
       "      <td>1.775538</td>\n",
       "      <td>1.019465</td>\n",
       "    </tr>\n",
       "    <tr>\n",
       "      <th>max</th>\n",
       "      <td>1159.055556</td>\n",
       "      <td>0.559722</td>\n",
       "      <td>0.206006</td>\n",
       "      <td>0.972567</td>\n",
       "      <td>4.936263</td>\n",
       "      <td>3.137791</td>\n",
       "      <td>1.079653</td>\n",
       "    </tr>\n",
       "  </tbody>\n",
       "</table>\n",
       "</div>"
      ],
      "text/plain": [
       "          contrast  homogeneity     energy  correlation    entropy  \\\n",
       "count    40.000000    40.000000  40.000000    40.000000  40.000000   \n",
       "mean     44.198264     0.360875   0.144961     0.869691   4.223898   \n",
       "std     185.012921     0.073984   0.015503     0.188307   0.347410   \n",
       "min       1.847222     0.218489   0.125769    -0.072373   3.555415   \n",
       "25%       6.184028     0.296220   0.136083     0.876219   4.006589   \n",
       "50%       8.395833     0.370773   0.140955     0.912296   4.251664   \n",
       "75%      12.218750     0.403515   0.153721     0.947545   4.425140   \n",
       "max    1159.055556     0.559722   0.206006     0.972567   4.936263   \n",
       "\n",
       "       longRunEmphasis  runPercentage  \n",
       "count        40.000000      40.000000  \n",
       "mean          1.711326       0.974923  \n",
       "std           0.361938       0.056691  \n",
       "min           1.403044       0.837976  \n",
       "25%           1.510340       0.934854  \n",
       "50%           1.559616       0.971073  \n",
       "75%           1.775538       1.019465  \n",
       "max           3.137791       1.079653  "
      ]
     },
     "execution_count": 50,
     "metadata": {},
     "output_type": "execute_result"
    }
   ],
   "source": [
    "data.describe()"
   ]
  },
  {
   "cell_type": "code",
   "execution_count": 55,
   "id": "48d0baf8",
   "metadata": {},
   "outputs": [
    {
     "data": {
      "text/plain": [
       "0.375"
      ]
     },
     "execution_count": 55,
     "metadata": {},
     "output_type": "execute_result"
    }
   ],
   "source": [
    "from sklearn.tree import DecisionTreeClassifier\n",
    "from sklearn.model_selection import train_test_split\n",
    "from sklearn.metrics import accuracy_score\n",
    "X = data.drop(['target'],axis=1).values\n",
    "y = data['target'].values\n",
    "\n",
    "X_train, X_test, y_train, y_test = train_test_split(X, y, test_size=0.2, random_state=42)\n",
    "\n",
    "clf = DecisionTreeClassifier()\n",
    "clf.fit(X_train,y_train)\n",
    "\n",
    "y_pred = clf.predict(X_test)\n",
    "\n",
    "accuracy_score(y_test, y_pred)"
   ]
  },
  {
   "cell_type": "code",
   "execution_count": null,
   "id": "e5a0da0c",
   "metadata": {},
   "outputs": [],
   "source": []
  }
 ],
 "metadata": {
  "kernelspec": {
   "display_name": "Python 3",
   "language": "python",
   "name": "python3"
  },
  "language_info": {
   "codemirror_mode": {
    "name": "ipython",
    "version": 3
   },
   "file_extension": ".py",
   "mimetype": "text/x-python",
   "name": "python",
   "nbconvert_exporter": "python",
   "pygments_lexer": "ipython3",
   "version": "3.8.8"
  }
 },
 "nbformat": 4,
 "nbformat_minor": 5
}

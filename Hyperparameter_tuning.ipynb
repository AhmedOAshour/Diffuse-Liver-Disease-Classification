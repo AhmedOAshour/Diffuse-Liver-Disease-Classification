{
 "cells": [
  {
   "cell_type": "code",
   "execution_count": 1,
   "id": "c7dc58b2",
   "metadata": {},
   "outputs": [],
   "source": [
    "import numpy as np\n",
    "import pandas as pd\n",
    "from sklearn.metrics import classification_report\n",
    "from sklearn.model_selection import GridSearchCV\n",
    "from sklearn.preprocessing import StandardScaler"
   ]
  },
  {
   "cell_type": "code",
   "execution_count": 2,
   "id": "67fb7257",
   "metadata": {},
   "outputs": [],
   "source": [
    "train = pd.read_csv('dataset/train.csv')\n",
    "\n",
    "X_train = train.copy()\n",
    "y_train = X_train.pop('target')\n",
    "\n",
    "std = StandardScaler()\n",
    "std.fit(X_train)\n",
    "X_train = pd.DataFrame(std.transform(X_train), columns=X_train.columns)"
   ]
  },
  {
   "cell_type": "code",
   "execution_count": 3,
   "id": "03e0aae1",
   "metadata": {},
   "outputs": [],
   "source": [
    "test = pd.read_csv('dataset/test.csv')\n",
    "X_test = test.copy()\n",
    "y_test = X_test.pop('target')\n",
    "\n",
    "std = StandardScaler()\n",
    "std.fit(X_test)\n",
    "X_test = pd.DataFrame(std.transform(X_test), columns=X_test.columns)"
   ]
  },
  {
   "cell_type": "code",
   "execution_count": 7,
   "id": "7a2853d1",
   "metadata": {},
   "outputs": [
    {
     "data": {
      "text/plain": [
       "GridSearchCV(cv=5, estimator=RandomForestClassifier(random_state=42),\n",
       "             param_grid={'criterion': ['gini', 'entropy'],\n",
       "                         'max_depth': [4, 5, 6, 7, 8],\n",
       "                         'max_features': ['auto', 'sqrt', 'log2'],\n",
       "                         'n_estimators': [200, 500, 600, 700, 800]})"
      ]
     },
     "execution_count": 7,
     "metadata": {},
     "output_type": "execute_result"
    }
   ],
   "source": [
    "from sklearn.ensemble import RandomForestClassifier\n",
    "\n",
    "clf = RandomForestClassifier(random_state=42)\n",
    "\n",
    "param_grid = { \n",
    "    'n_estimators': [400,500],\n",
    "    'max_features': ['auto'],\n",
    "    'max_depth' : [6],\n",
    "    'criterion' :['entropy'],\n",
    "    'min_samples_split' :[2,3,4],\n",
    "    'min_samples_leaf' :[1,2,3],\n",
    "    'min_weight_fraction_leaf' :[0.0, 0.5]\n",
    "}\n",
    "\n",
    "CV_rfc = GridSearchCV(estimator=clf, param_grid=param_grid, cv= 5)\n",
    "CV_rfc.fit(X_train, y_train)\n"
   ]
  },
  {
   "cell_type": "code",
   "execution_count": 5,
   "id": "3609a98d",
   "metadata": {},
   "outputs": [
    {
     "data": {
      "text/plain": [
       "{'criterion': 'entropy',\n",
       " 'max_depth': 6,\n",
       " 'max_features': 'auto',\n",
       " 'n_estimators': 500}"
      ]
     },
     "execution_count": 5,
     "metadata": {},
     "output_type": "execute_result"
    }
   ],
   "source": [
    "CV_rfc.best_params_"
   ]
  },
  {
   "cell_type": "code",
   "execution_count": 6,
   "id": "84bc62e8",
   "metadata": {},
   "outputs": [
    {
     "name": "stdout",
     "output_type": "stream",
     "text": [
      "              precision    recall  f1-score     support\n",
      "fatty          0.769231  0.945946  0.848485   74.000000\n",
      "normal         0.826087  0.475000  0.603175   40.000000\n",
      "accuracy       0.780702  0.780702  0.780702    0.780702\n",
      "macro avg      0.797659  0.710473  0.725830  114.000000\n",
      "weighted avg   0.789180  0.780702  0.762411  114.000000\n"
     ]
    }
   ],
   "source": [
    "rfc = RandomForestClassifier(random_state=42, max_features='auto', n_estimators= 500, max_depth=6, criterion='entropy')\n",
    "rfc = rfc.fit(X_train,y_train)\n",
    "y_pred = rfc.predict(X_test)\n",
    "rfc.fit(X_train, y_train)\n",
    "report = classification_report(y_test, y_pred, output_dict = True)\n",
    "cr = pd.DataFrame(report).transpose()\n",
    "print(cr)"
   ]
  },
  {
   "cell_type": "code",
   "execution_count": null,
   "id": "b7764d50",
   "metadata": {},
   "outputs": [],
   "source": []
  }
 ],
 "metadata": {
  "kernelspec": {
   "display_name": "Python 3",
   "language": "python",
   "name": "python3"
  },
  "language_info": {
   "codemirror_mode": {
    "name": "ipython",
    "version": 3
   },
   "file_extension": ".py",
   "mimetype": "text/x-python",
   "name": "python",
   "nbconvert_exporter": "python",
   "pygments_lexer": "ipython3",
   "version": "3.8.8"
  }
 },
 "nbformat": 4,
 "nbformat_minor": 5
}

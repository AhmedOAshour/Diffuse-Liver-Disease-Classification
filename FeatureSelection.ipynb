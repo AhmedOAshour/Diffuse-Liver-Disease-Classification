{
 "cells": [
  {
   "cell_type": "code",
   "execution_count": 2,
   "id": "9911f314",
   "metadata": {},
   "outputs": [],
   "source": [
    "import numpy as np\n",
    "import pandas as pd\n",
    "import seaborn as sns\n",
    "import matplotlib.pyplot as plt\n",
    "from sklearn.preprocessing import StandardScaler\n",
    "from skfeature.function.similarity_based import fisher_score\n",
    "%matplotlib inline\n",
    "\n",
    "train = pd.read_csv('dataset/train.csv')\n",
    "test = pd.read_csv('dataset/test.csv')\n",
    "\n",
    "X_train = train.copy()\n",
    "y_train = X_train.pop('target')\n",
    "X_train.pop('name')\n",
    "std = StandardScaler()\n",
    "std.fit(X_train)\n",
    "X_train = pd.DataFrame(std.transform(X_train), columns=X_train.columns)"
   ]
  },
  {
   "cell_type": "code",
   "execution_count": 4,
   "id": "1ff0231e",
   "metadata": {
    "scrolled": true
   },
   "outputs": [],
   "source": [
    "X = X_train.to_numpy()\n",
    "Y = y_train.to_numpy()\n",
    "\n",
    "#ranks each feature from best  to worst by their index\n",
    "ranks = fisher_score.fisher_score(X,Y)\n",
    "\n",
    "\n",
    "#remove first 30 features\n",
    "dropped_columns = ranks[30:]\n",
    "\n",
    "\n",
    "#loop to drop the features\n",
    "cols = train.columns\n",
    "fishertrain = train.copy()\n",
    "for i in range(len(dropped_columns)):\n",
    "    fishertrain = fishertrain.drop(cols[dropped_columns[i]],axis = 1)\n",
    "\n",
    "fishertrain.to_csv('dataset/fishertrain.csv',index= False)\n",
    "\n",
    "cols = test.columns\n",
    "fishertest = test.copy()\n",
    "for i in range(len(dropped_columns)):\n",
    "    fishertest = fishertest.drop(cols[dropped_columns[i]],axis = 1)\n",
    "\n",
    "fishertest.to_csv('dataset/fishertest.csv',index= False)    "
   ]
  },
  {
   "cell_type": "code",
   "execution_count": 10,
   "id": "345c4401",
   "metadata": {},
   "outputs": [
    {
     "data": {
      "image/png": "[encoded data removed]",
      "text/plain": [
       "<Figure size 432x288 with 1 Axes>"
      ]
     },
     "metadata": {
      "needs_background": "light"
     },
     "output_type": "display_data"
    }
   ],
   "source": [
    "from sklearn.decomposition import PCA\n",
    "pca = PCA()\n",
    "pca.fit(X)\n",
    "plt.figure()\n",
    "plt.plot(np.cumsum(pca.explained_variance_ratio_))\n",
    "plt.xlabel(\"No. of components\")\n",
    "plt.ylabel(\"variance %\")\n",
    "plt.title(\"Explained variance\")\n",
    "plt.show()"
   ]
  },
  {
   "cell_type": "code",
   "execution_count": 6,
   "id": "c7f4ec8b",
   "metadata": {},
   "outputs": [],
   "source": [
    "#function to drop the most correlated features with a specific threshold\n",
    "def correlation(dataset, threshold):\n",
    "    col_corr = set()  # Set of all the names of correlated columns\n",
    "    corr_matrix = dataset.corr()\n",
    "    for i in range(len(corr_matrix.columns)):\n",
    "        for j in range(i):\n",
    "            if abs(corr_matrix.iloc[i, j]) > threshold: # we are interested in absolute coeff value\n",
    "                colname = corr_matrix.columns[i]  # getting the name of column\n",
    "                col_corr.add(colname)\n",
    "    return col_corr"
   ]
  },
  {
   "cell_type": "code",
   "execution_count": 7,
   "id": "96ab77ab",
   "metadata": {},
   "outputs": [
    {
     "data": {
      "text/plain": [
       "98"
      ]
     },
     "execution_count": 7,
     "metadata": {},
     "output_type": "execute_result"
    }
   ],
   "source": [
    "correlation_train = train.copy()\n",
    "correlation_test = test.copy()\n",
    "corr_features = correlation(correlation_train, 0.7)\n",
    "len(set(corr_features))"
   ]
  },
  {
   "cell_type": "code",
   "execution_count": 8,
   "id": "153745d4",
   "metadata": {
    "scrolled": true
   },
   "outputs": [
    {
     "data": {
      "text/plain": [
       "{'90Percentile',\n",
       " 'ClusterShade',\n",
       " 'ClusterTendency',\n",
       " 'DifferenceAverage',\n",
       " 'DifferenceEntropy',\n",
       " 'DifferenceVariance',\n",
       " 'Energy',\n",
       " 'Entropy',\n",
       " 'GrayLevelNonUniformity',\n",
       " 'GrayLevelNonUniformityNormalized',\n",
       " 'GrayLevelVariance',\n",
       " 'HighGrayLevelRunEmphasis',\n",
       " 'Id',\n",
       " 'Idm',\n",
       " 'Idn',\n",
       " 'Imc1',\n",
       " 'Imc2',\n",
       " 'InterquartileRange',\n",
       " 'InverseVariance',\n",
       " 'JointAverage',\n",
       " 'JointEnergy',\n",
       " 'JointEntropy',\n",
       " 'LongRunEmphasis',\n",
       " 'LongRunHighGrayLevelEmphasis',\n",
       " 'LongRunLowGrayLevelEmphasis',\n",
       " 'LowGrayLevelRunEmphasis',\n",
       " 'MCC',\n",
       " 'Maximum',\n",
       " 'MaximumProbability',\n",
       " 'Mean',\n",
       " 'MeanAbsoluteDeviation',\n",
       " 'Median',\n",
       " 'Minimum',\n",
       " 'Range',\n",
       " 'RobustMeanAbsoluteDeviation',\n",
       " 'RootMeanSquared',\n",
       " 'RunEntropy',\n",
       " 'RunLengthNonUniformity',\n",
       " 'RunLengthNonUniformityNormalized',\n",
       " 'RunPercentage',\n",
       " 'RunVariance',\n",
       " 'ShortRunEmphasis',\n",
       " 'ShortRunHighGrayLevelEmphasis',\n",
       " 'SumAverage',\n",
       " 'SumEntropy',\n",
       " 'SumSquares',\n",
       " 'Uniformity',\n",
       " 'Variance',\n",
       " 'contrast_d1_0',\n",
       " 'contrast_d1_135',\n",
       " 'contrast_d1_45',\n",
       " 'contrast_d1_90',\n",
       " 'contrast_d2_0',\n",
       " 'contrast_d2_135',\n",
       " 'contrast_d2_45',\n",
       " 'contrast_d2_90',\n",
       " 'contrast_d3_0',\n",
       " 'contrast_d3_135',\n",
       " 'contrast_d3_45',\n",
       " 'contrast_d3_90',\n",
       " 'correlation_d1_0',\n",
       " 'correlation_d1_135',\n",
       " 'correlation_d1_45',\n",
       " 'correlation_d1_90',\n",
       " 'correlation_d2_0',\n",
       " 'correlation_d2_135',\n",
       " 'correlation_d2_45',\n",
       " 'correlation_d2_90',\n",
       " 'correlation_d3_0',\n",
       " 'correlation_d3_135',\n",
       " 'correlation_d3_45',\n",
       " 'correlation_d3_90',\n",
       " 'energy_d1_135',\n",
       " 'energy_d1_45',\n",
       " 'energy_d1_90',\n",
       " 'energy_d2_0',\n",
       " 'energy_d2_135',\n",
       " 'energy_d2_45',\n",
       " 'energy_d2_90',\n",
       " 'energy_d3_0',\n",
       " 'energy_d3_135',\n",
       " 'energy_d3_45',\n",
       " 'energy_d3_90',\n",
       " 'entropy',\n",
       " 'homogeneity_d1_0',\n",
       " 'homogeneity_d1_135',\n",
       " 'homogeneity_d1_45',\n",
       " 'homogeneity_d1_90',\n",
       " 'homogeneity_d2_0',\n",
       " 'homogeneity_d2_135',\n",
       " 'homogeneity_d2_45',\n",
       " 'homogeneity_d2_90',\n",
       " 'homogeneity_d3_0',\n",
       " 'homogeneity_d3_135',\n",
       " 'homogeneity_d3_45',\n",
       " 'homogeneity_d3_90',\n",
       " 'mean',\n",
       " 'variance'}"
      ]
     },
     "execution_count": 8,
     "metadata": {},
     "output_type": "execute_result"
    }
   ],
   "source": [
    "corr_features"
   ]
  },
  {
   "cell_type": "code",
   "execution_count": 9,
   "id": "4363312a",
   "metadata": {},
   "outputs": [],
   "source": [
    "#correlation_train = correlation_train.drop(corr_features,axis=1)\n",
    "#correlation_test = correlation_test.drop(corr_features,axis=1)\n",
    "correlation_test.shape\n",
    "correlation_test.to_csv('dataset/corrtest.csv' ,index= False)    \n",
    "correlation_train.shape\n",
    "correlation_train.to_csv('dataset/corrtrain.csv',index= False)    "
   ]
  },
  {
   "cell_type": "code",
   "execution_count": null,
   "id": "0b96e2e5",
   "metadata": {},
   "outputs": [],
   "source": []
  }
 ],
 "metadata": {
  "kernelspec": {
   "display_name": "Python 3 (ipykernel)",
   "language": "python",
   "name": "python3"
  },
  "language_info": {
   "codemirror_mode": {
    "name": "ipython",
    "version": 3
   },
   "file_extension": ".py",
   "mimetype": "text/x-python",
   "name": "python",
   "nbconvert_exporter": "python",
   "pygments_lexer": "ipython3",
   "version": "3.9.7"
  }
 },
 "nbformat": 4,
 "nbformat_minor": 5
}

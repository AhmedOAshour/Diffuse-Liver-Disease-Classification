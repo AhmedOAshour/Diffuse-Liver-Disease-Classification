{
 "cells": [
  {
   "cell_type": "code",
   "execution_count": 1,
   "id": "0bcc9ba1",
   "metadata": {},
   "outputs": [],
   "source": [
    "from radiomics import firstorder, getTestCase, glcm, glrlm, glszm, imageoperations, shape\n",
    "import SimpleITK as sitk\n",
    "import six"
   ]
  },
  {
   "cell_type": "code",
   "execution_count": 11,
   "id": "738088c4",
   "metadata": {},
   "outputs": [],
   "source": [
    "import numpy as np\n",
    "\n",
    "arr = np.zeros((552,684),\"uint8\")\n",
    "size = (32,32)\n",
    "roi_pos = [\n",
    "        (160,230),\n",
    "        (118,224),\n",
    "        (241,151),\n",
    "        (120,420),\n",
    "        (170,300),\n",
    "        (400,200),\n",
    "        (300,120),\n",
    "        (240,240),\n",
    "        (360,160)\n",
    "    ]\n",
    "\n",
    "count = 1\n",
    "\n",
    "for start in roi_pos: \n",
    "    arr[start[0]:start[0]+size[0],start[1]:start[1]+size[1]] = count\n",
    "    count+=1"
   ]
  },
  {
   "cell_type": "code",
   "execution_count": 12,
   "id": "0df3da17",
   "metadata": {},
   "outputs": [],
   "source": [
    "from PIL import Image\n",
    "im = Image.fromarray(arr)\n",
    "im.save(\"your_file.jpg\")"
   ]
  },
  {
   "cell_type": "code",
   "execution_count": 4,
   "id": "7b48ec5e",
   "metadata": {},
   "outputs": [],
   "source": [
    "filepath = \"dataset/train/fatty/b1.jpg\"\n",
    "\n",
    "image = sitk.ReadImage(filepath)"
   ]
  },
  {
   "cell_type": "code",
   "execution_count": 5,
   "id": "f04a7c73",
   "metadata": {},
   "outputs": [],
   "source": [
    "maskpath = 'mask.jpg'\n",
    "\n",
    "mask = sitk.ReadImage(filepath)"
   ]
  },
  {
   "cell_type": "code",
   "execution_count": 8,
   "id": "92a3b6fa",
   "metadata": {},
   "outputs": [
    {
     "name": "stdout",
     "output_type": "stream",
     "text": [
      "Calculated GLRLM features: \n",
      "   GrayLevelNonUniformity : 3948.5384615384614\n",
      "   GrayLevelNonUniformityNormalized : 1.0\n",
      "   GrayLevelVariance : 0.0\n",
      "   HighGrayLevelRunEmphasis : 1.0\n",
      "   LongRunEmphasis : 4.933099156628383\n",
      "   LongRunHighGrayLevelEmphasis : 4.933099156628383\n",
      "   LongRunLowGrayLevelEmphasis : 4.933099156628383\n",
      "   LowGrayLevelRunEmphasis : 1.0\n",
      "   RunEntropy : 0.6325170335715693\n",
      "   RunLengthNonUniformity : 3191.0559912423164\n",
      "   RunLengthNonUniformityNormalized : 0.7891230376488415\n",
      "   RunPercentage : 0.8161509841956308\n",
      "   RunVariance : 3.2595469586786794\n",
      "   ShortRunEmphasis : 0.9009454237951829\n",
      "   ShortRunHighGrayLevelEmphasis : 0.9009454237951829\n",
      "   ShortRunLowGrayLevelEmphasis : 0.9009454237951829\n"
     ]
    }
   ],
   "source": [
    "glrlmFeatures = glrlm.RadiomicsGLRLM(image, mask)\n",
    "glrlmFeatures.enableAllFeatures()\n",
    "\n",
    "# print('Will calculate the following GLRLM features: ')\n",
    "# for f in glrlmFeatures.enabledFeatures.keys():\n",
    "#   print('  ', f)\n",
    "#   print(getattr(glrlmFeatures, 'get%sFeatureValue' % f).__doc__)\n",
    "\n",
    "# print('Calculating GLRLM features...')\n",
    "results = glrlmFeatures.execute()\n",
    "# print('done')\n",
    "\n",
    "print('Calculated GLRLM features: ')\n",
    "for (key, val) in six.iteritems(results):\n",
    "  print('  ', key, ':', val)\n"
   ]
  },
  {
   "cell_type": "code",
   "execution_count": null,
   "id": "c9a96b3d",
   "metadata": {},
   "outputs": [],
   "source": []
  }
 ],
 "metadata": {
  "kernelspec": {
   "display_name": "Python 3",
   "language": "python",
   "name": "python3"
  },
  "language_info": {
   "codemirror_mode": {
    "name": "ipython",
    "version": 3
   },
   "file_extension": ".py",
   "mimetype": "text/x-python",
   "name": "python",
   "nbconvert_exporter": "python",
   "pygments_lexer": "ipython3",
   "version": "3.8.8"
  }
 },
 "nbformat": 4,
 "nbformat_minor": 5
}
